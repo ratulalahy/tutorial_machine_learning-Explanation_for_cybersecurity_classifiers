{
 "cells": [
  {
   "cell_type": "raw",
   "metadata": {
    "ExecuteTime": {
     "end_time": "2022-06-30T05:54:33.233540Z",
     "start_time": "2022-06-30T05:54:28.587521Z"
    },
    "colab": {
     "base_uri": "https://localhost:8080/"
    },
    "id": "XctoKAQSZgXC",
    "outputId": "b27fa1fe-0e4b-47c5-a4bd-b5ec9a91d77e"
   },
   "source": [
    "!pip install shap\n",
    "!pip install missingno"
   ]
  },
  {
   "cell_type": "raw",
   "metadata": {
    "ExecuteTime": {
     "end_time": "2022-06-30T05:54:37.752969Z",
     "start_time": "2022-06-30T05:54:33.237963Z"
    },
    "colab": {
     "base_uri": "https://localhost:8080/"
    },
    "id": "0TgiYatAZgXC",
    "outputId": "4b2aaa61-8733-4259-bc03-8299baf80bfc"
   },
   "source": []
  },
  {
   "cell_type": "markdown",
   "metadata": {
    "id": "jQ5W39c60yFM"
   },
   "source": [
    "\n",
    "# Loading Libraries\n"
   ]
  },
  {
   "cell_type": "code",
   "execution_count": null,
   "metadata": {
    "ExecuteTime": {
     "end_time": "2022-12-08T18:14:37.863022Z",
     "start_time": "2022-12-08T18:14:36.675459Z"
    },
    "id": "GbxBnvNWZgXC"
   },
   "outputs": [],
   "source": [
    "import numpy as np\n",
    "import pandas as pd\n",
    "import scipy\n",
    "\n",
    "import statistics\n",
    "\n",
    "import sklearn\n",
    "import sklearn.ensemble\n",
    "from sklearn.metrics import accuracy_score\n",
    "from sklearn.model_selection import train_test_split\n",
    "from sklearn.metrics import accuracy_score\n",
    "from sklearn.metrics import classification_report\n",
    "\n",
    "import matplotlib.pyplot as plt\n",
    "import matplotlib.ticker as ticker\n",
    "\n",
    "import lime\n",
    "import lime.lime_tabular\n",
    "\n",
    "import shap\n",
    "\n",
    "\n",
    "import sys\n",
    "\n",
    "%load_ext autoreload\n",
    "%autoreload 2\n",
    "%matplotlib inline\n",
    "\n",
    "\n",
    "import os\n",
    "import missingno\n",
    "import missingno as msno\n",
    "\n",
    "\n",
    "from IPython.core.display import display, HTML\n",
    "from tqdm.notebook import tqdm\n",
    "\n",
    "from __future__ import print_function"
   ]
  },
  {
   "cell_type": "markdown",
   "metadata": {
    "id": "DM_LQCBrZxJP"
   },
   "source": [
    "\n",
    "# Loading Data"
   ]
  },
  {
   "cell_type": "markdown",
   "metadata": {},
   "source": [
    "Lets load the dataset.\n",
    "We have multiple csv files, in the dataset directory, lets load all of them in a dataframe."
   ]
  },
  {
   "cell_type": "code",
   "execution_count": null,
   "metadata": {
    "ExecuteTime": {
     "end_time": "2022-12-08T18:14:37.877111Z",
     "start_time": "2022-12-08T18:14:37.864373Z"
    },
    "id": "KvnUK0d0ZgXB"
   },
   "outputs": [],
   "source": [
    "\n",
    "local_dataset_dir = '../dataset/ics_power_system/binaryAllNaturalPlusNormalVsAttacks/'"
   ]
  },
  {
   "cell_type": "code",
   "execution_count": null,
   "metadata": {
    "ExecuteTime": {
     "end_time": "2022-12-08T18:14:37.892267Z",
     "start_time": "2022-12-08T18:14:37.878516Z"
    },
    "colab": {
     "base_uri": "https://localhost:8080/"
    },
    "id": "0sF1DRNYZgXB",
    "outputId": "f115ae17-dd37-495d-dacd-adec668b171a"
   },
   "outputs": [],
   "source": [
    "import os\n",
    "for dirname, _, filenames in os.walk(local_dataset_dir):\n",
    "    for filename in filenames:\n",
    "        print(os.path.join(dirname, filename))"
   ]
  },
  {
   "cell_type": "code",
   "execution_count": null,
   "metadata": {
    "ExecuteTime": {
     "end_time": "2022-12-08T18:14:38.849930Z",
     "start_time": "2022-12-08T18:14:37.893664Z"
    }
   },
   "outputs": [],
   "source": [
    "all_files = []\n",
    "for dirname, _, filenames in os.walk(local_dataset_dir):\n",
    "    for filename in filenames:\n",
    "        all_files.append(os.path.join(dirname, filename))\n",
    "\n",
    "df_original = pd.concat((pd.read_csv(f) for f in all_files))\n",
    "\n",
    "# train = df_original.sample(n =700, random_state=1) \n",
    "# test =  df_original.sample(n =300, random_state=5) \n",
    "\n",
    "\n",
    "df_original.reset_index(drop=True, inplace=True)\n",
    "df_original['marker'].value_counts().values"
   ]
  },
  {
   "cell_type": "code",
   "execution_count": null,
   "metadata": {
    "ExecuteTime": {
     "end_time": "2022-12-08T18:14:38.866201Z",
     "start_time": "2022-12-08T18:14:38.851055Z"
    },
    "id": "D5V7OuwCZxJV"
   },
   "outputs": [],
   "source": [
    "df_original.dtypes"
   ]
  },
  {
   "cell_type": "markdown",
   "metadata": {},
   "source": [
    "- Lets treat the missing values. If there are `inf` values we will replace with `nan`.\n",
    "\n",
    "- Finally we will check if there are any missing value.\n",
    "\n",
    "- We are using https://pypi.org/project/missingno/ for analyzing and visualizing missing value. Use of this library is totally optional."
   ]
  },
  {
   "cell_type": "code",
   "execution_count": null,
   "metadata": {
    "ExecuteTime": {
     "end_time": "2022-12-08T18:14:38.929794Z",
     "start_time": "2022-12-08T18:14:38.867304Z"
    },
    "colab": {
     "base_uri": "https://localhost:8080/",
     "height": 0
    },
    "id": "vAXcp_UqZxJV",
    "outputId": "66ed468a-c61b-4b1b-d8cb-8156390617df"
   },
   "outputs": [],
   "source": [
    "df_original.replace([np.inf, -np.inf], np.nan, inplace= True)\n",
    "df_original.isnull().values.any()"
   ]
  },
  {
   "cell_type": "code",
   "execution_count": null,
   "metadata": {
    "ExecuteTime": {
     "end_time": "2022-12-08T18:14:40.548708Z",
     "start_time": "2022-12-08T18:14:38.961947Z"
    },
    "id": "jE3WF4SWZxJW"
   },
   "outputs": [],
   "source": [
    "df_original.dropna(how='any', inplace= True)\n",
    "cols_numeric = df_original._get_numeric_data().columns\n",
    "\n",
    "df_original[cols_numeric] = df_original[cols_numeric].astype('float')\n",
    "\n",
    "df_original[cols_numeric] = (df_original[cols_numeric]- df_original[cols_numeric].mean())/df_original[cols_numeric].std()"
   ]
  },
  {
   "cell_type": "code",
   "execution_count": null,
   "metadata": {
    "ExecuteTime": {
     "end_time": "2022-12-08T18:14:40.594669Z",
     "start_time": "2022-12-08T18:14:40.550301Z"
    }
   },
   "outputs": [],
   "source": [
    "X = df_original.iloc[:, :-1]"
   ]
  },
  {
   "cell_type": "code",
   "execution_count": null,
   "metadata": {
    "ExecuteTime": {
     "end_time": "2022-12-08T18:14:40.640604Z",
     "start_time": "2022-12-08T18:14:40.595869Z"
    }
   },
   "outputs": [],
   "source": [
    "df_original"
   ]
  },
  {
   "cell_type": "code",
   "execution_count": null,
   "metadata": {
    "ExecuteTime": {
     "start_time": "2022-12-08T19:36:32.040Z"
    }
   },
   "outputs": [],
   "source": [
    "# Just renaming to `label` column, also optional\n",
    "df_original.rename(columns={'marker': 'label'}, inplace = True)"
   ]
  },
  {
   "cell_type": "markdown",
   "metadata": {},
   "source": [
    "- For the sake of simplicity we are sampling 700 datapoint for training dataset and 300 for the testing dataset. \n",
    "- Larger dataset will result better prediction and interpretability result but will require more computation time. "
   ]
  },
  {
   "cell_type": "code",
   "execution_count": null,
   "metadata": {
    "ExecuteTime": {
     "end_time": "2022-12-08T18:14:40.823419Z",
     "start_time": "2022-12-08T18:14:40.656298Z"
    }
   },
   "outputs": [],
   "source": [
    "X_train = df_original.iloc[:, :-1].sample(n =700, random_state=1) \n",
    "X_test = df_original.iloc[:, :-1].sample(n =300, random_state=5) \n",
    "\n",
    "y_train =  df_original.loc[X_train.index]['label']\n",
    "y_test = df_original.loc[X_test.index]['label']"
   ]
  },
  {
   "cell_type": "raw",
   "metadata": {
    "ExecuteTime": {
     "end_time": "2022-12-08T17:44:19.193231Z",
     "start_time": "2022-12-08T17:44:18.991999Z"
    }
   },
   "source": [
    "X_train = df_original.iloc[:, :-1].sample(n =40000, random_state=1) \n",
    "X_test = df_original.iloc[:, :-1].sample(n =7000, random_state=17) \n",
    "\n",
    "y_train =  df_original.loc[X_train.index]['label']\n",
    "y_test = df_original.loc[X_test.index]['label']"
   ]
  },
  {
   "cell_type": "code",
   "execution_count": null,
   "metadata": {
    "ExecuteTime": {
     "end_time": "2022-12-08T18:14:40.838880Z",
     "start_time": "2022-12-08T18:14:40.824568Z"
    }
   },
   "outputs": [],
   "source": [
    "y_train.replace(['Attack'], 1 , inplace= True)\n",
    "y_train.replace(['Natural'], 0, inplace= True)\n",
    "\n",
    "y_test.replace(['Attack'], 1 , inplace= True)\n",
    "y_test.replace(['Natural'], 0, inplace= True)"
   ]
  },
  {
   "cell_type": "code",
   "execution_count": null,
   "metadata": {
    "ExecuteTime": {
     "end_time": "2022-12-08T18:14:41.162295Z",
     "start_time": "2022-12-08T18:14:40.839959Z"
    },
    "colab": {
     "base_uri": "https://localhost:8080/",
     "height": 0
    },
    "id": "Vz454BKOZxJX",
    "outputId": "209ced85-29c2-4b0d-ba66-2cb8746fa33b",
    "scrolled": true
   },
   "outputs": [],
   "source": [
    "df_original.describe().T"
   ]
  },
  {
   "cell_type": "markdown",
   "metadata": {
    "id": "3iKmuS82ZxJX"
   },
   "source": [
    "#### Missing value"
   ]
  },
  {
   "cell_type": "code",
   "execution_count": null,
   "metadata": {
    "ExecuteTime": {
     "end_time": "2022-12-08T18:14:41.196442Z",
     "start_time": "2022-12-08T18:14:41.163426Z"
    },
    "colab": {
     "base_uri": "https://localhost:8080/"
    },
    "id": "ztnj68aXZxJX",
    "outputId": "0dd86edd-e391-49ce-e218-76a738963ea5"
   },
   "outputs": [],
   "source": [
    "df_original.isnull().sum()"
   ]
  },
  {
   "cell_type": "code",
   "execution_count": null,
   "metadata": {
    "ExecuteTime": {
     "end_time": "2022-12-08T18:14:42.513003Z",
     "start_time": "2022-12-08T18:14:41.197637Z"
    },
    "colab": {
     "base_uri": "https://localhost:8080/",
     "height": 0
    },
    "id": "iC7ZPahEZxJY",
    "outputId": "4f7a781c-2237-4000-db0c-d2727bb0aa35"
   },
   "outputs": [],
   "source": [
    "msno.matrix(df_original)"
   ]
  },
  {
   "cell_type": "markdown",
   "metadata": {
    "id": "bGe7xUeiZxJZ"
   },
   "source": [
    "#### Data insight"
   ]
  },
  {
   "cell_type": "markdown",
   "metadata": {
    "id": "N_EwSNGOZxJZ"
   },
   "source": [
    "Data contains '-' as none. So we need to remove '-' as null"
   ]
  },
  {
   "cell_type": "code",
   "execution_count": null,
   "metadata": {
    "ExecuteTime": {
     "end_time": "2022-12-08T18:14:42.529058Z",
     "start_time": "2022-12-08T18:14:42.514113Z"
    },
    "colab": {
     "base_uri": "https://localhost:8080/"
    },
    "id": "9Ixkm6CEZxJe",
    "outputId": "ab1e0961-d17d-4084-896c-97ce5ba01887"
   },
   "outputs": [],
   "source": [
    "[y_train.value_counts().tolist(), y_test.value_counts().tolist()]"
   ]
  },
  {
   "cell_type": "code",
   "execution_count": null,
   "metadata": {
    "ExecuteTime": {
     "end_time": "2022-12-08T18:14:42.663850Z",
     "start_time": "2022-12-08T18:14:42.530076Z"
    },
    "colab": {
     "base_uri": "https://localhost:8080/",
     "height": 0
    },
    "id": "l5ph7GuPZxJe",
    "outputId": "06af8b13-718b-44a1-87de-e30a1ca5240e"
   },
   "outputs": [],
   "source": [
    "import seaborn as sns\n",
    "\n",
    "fig, ax = plt.subplots(figsize=(15,8))\n",
    "size = 0.3\n",
    "vals = np.array([y_train.value_counts().tolist(), y_test.value_counts().tolist()])\n",
    "\n",
    "#cmap = plt.get_cmap(\"tab20\")\n",
    "outer_colors = plt.get_cmap(\"Pastel1\")(np.array([1,3]))\n",
    "inner_colors = plt.get_cmap(\"Pastel1\")(np.array([0,2]*2))\n",
    "\n",
    "b1 = ax.pie(vals.sum(axis=1), radius=1,\\\n",
    "            colors=outer_colors, \\\n",
    "            wedgeprops=dict(width=size, edgecolor='w'),\\\n",
    "           pctdistance=0.85,autopct='%.2f%%',)\n",
    "\n",
    "b2 = ax.pie(x=vals.flatten(),radius=1-size,\\\n",
    "       colors=inner_colors, wedgeprops=dict(width=size, edgecolor='w'),\\\n",
    "            pctdistance=0.8, labeldistance=0.4,\\\n",
    "           autopct='%.2f%%',)\n",
    "\n",
    "handles, labels = ax.get_legend_handles_labels()\n",
    "\n",
    "#ax.legend([\"Training\", \"Testing\",\"Not Attack\", \"Attack\"])\n",
    "          \n",
    "ax.legend(labels = [\"Training\", \"Testing\",\"Not Attack\", \"Attack\"], \n",
    "           bbox_to_anchor=(0.3, 0.3, 1.0, 1.0), loc='right',\n",
    "           ncol=1,  borderaxespad=2.0, prop={'size': 14})\n",
    "\n",
    "#ax.set(title=\"Pie plot with `ax.bar` and polar coordinates\")\n",
    "\n",
    "# Add counts above the two bar graphs\n",
    "\n",
    "ax.set(aspect=\"equal\")\n",
    "\n",
    "plt.show()"
   ]
  },
  {
   "cell_type": "markdown",
   "metadata": {
    "id": "NCSxGj6yWa19"
   },
   "source": [
    "# Reward Modification"
   ]
  },
  {
   "cell_type": "code",
   "execution_count": null,
   "metadata": {
    "ExecuteTime": {
     "end_time": "2022-12-08T18:14:42.678341Z",
     "start_time": "2022-12-08T18:14:42.665012Z"
    },
    "id": "38Q3GZPrWiwC"
   },
   "outputs": [],
   "source": [
    "from sklearn.ensemble import RandomForestClassifier\n",
    "from sklearn.metrics import confusion_matrix\n",
    "from sklearn.metrics import classification_report\n",
    "rf = sklearn.ensemble.RandomForestClassifier(n_estimators=10)"
   ]
  },
  {
   "cell_type": "markdown",
   "metadata": {},
   "source": [
    "We are choosing random forest as prediction model. Any ML algorithm can be choosen but we are going for simplicity."
   ]
  },
  {
   "cell_type": "code",
   "execution_count": null,
   "metadata": {
    "ExecuteTime": {
     "end_time": "2022-12-08T18:14:42.723122Z",
     "start_time": "2022-12-08T18:14:42.679434Z"
    },
    "id": "Dz0qmWkNaiYZ"
   },
   "outputs": [],
   "source": [
    "model = rf.fit(X_train.values, y_train.values)\n",
    "y_pred = model.predict(X_test.values)\n",
    "target_names = ['Attack', 'Natural']"
   ]
  },
  {
   "cell_type": "code",
   "execution_count": null,
   "metadata": {
    "ExecuteTime": {
     "end_time": "2022-12-08T18:14:42.740451Z",
     "start_time": "2022-12-08T18:14:42.724211Z"
    }
   },
   "outputs": [],
   "source": [
    "print(classification_report(y_test, y_pred, target_names=target_names))"
   ]
  },
  {
   "cell_type": "markdown",
   "metadata": {},
   "source": [
    "**With smaller dataset the result will not be very impressive, but will work for us. For better prediction result sample larger dataset.**"
   ]
  },
  {
   "cell_type": "code",
   "execution_count": null,
   "metadata": {
    "ExecuteTime": {
     "end_time": "2022-12-08T18:14:42.759719Z",
     "start_time": "2022-12-08T18:14:42.741530Z"
    },
    "colab": {
     "base_uri": "https://localhost:8080/"
    },
    "id": "20jRzoT9a3Er",
    "outputId": "6164b2ee-cc6e-4e59-899f-11f3fea821f5"
   },
   "outputs": [],
   "source": [
    "probs = model.predict_proba(X_test)\n",
    "prob1 = probs[:,1]\n",
    "print(prob1)"
   ]
  },
  {
   "cell_type": "code",
   "execution_count": null,
   "metadata": {
    "ExecuteTime": {
     "end_time": "2022-12-08T18:14:42.791015Z",
     "start_time": "2022-12-08T18:14:42.777883Z"
    },
    "id": "SPai6GgfANmu"
   },
   "outputs": [],
   "source": [
    "def get_coalition():\n",
    "    length = len(X_test.columns)\n",
    "    coalition = np.random.randint(low=0, high=2, size=length)\n",
    "    return coalition"
   ]
  },
  {
   "cell_type": "code",
   "execution_count": null,
   "metadata": {
    "ExecuteTime": {
     "end_time": "2022-12-08T18:14:42.805977Z",
     "start_time": "2022-12-08T18:14:42.792168Z"
    },
    "colab": {
     "base_uri": "https://localhost:8080/"
    },
    "id": "X7qEsrGHQlaf",
    "outputId": "6ef8610a-6bb4-47ad-d51c-f2a02895c050"
   },
   "outputs": [],
   "source": [
    "print(X_test.iloc[1])"
   ]
  },
  {
   "cell_type": "code",
   "execution_count": null,
   "metadata": {
    "ExecuteTime": {
     "end_time": "2022-12-08T18:14:42.821546Z",
     "start_time": "2022-12-08T18:14:42.807099Z"
    },
    "id": "OjvLIkwPGQXD"
   },
   "outputs": [],
   "source": [
    "import random\n",
    "def get_mean_constant(coalition, instance, y_label):\n",
    "    arys = []\n",
    "    for j in range(100):\n",
    "        l1 = []\n",
    "        for i in range(len(coalition)):\n",
    "            if coalition[i] == 1:\n",
    "                l1.append(instance[i])\n",
    "            elif coalition[i] == 0:\n",
    "                rand = random.choice(X_test.iloc[:,i].values)\n",
    "                l1.append(rand)\n",
    "        arys.append(l1)\n",
    "    if y_label == 1:\n",
    "        conf = model.predict_proba(arys)[:,1]\n",
    "    if y_label == 0:\n",
    "        conf = model.predict_proba(arys)[:,0]\n",
    "    return statistics.mean(conf)"
   ]
  },
  {
   "cell_type": "code",
   "execution_count": null,
   "metadata": {
    "ExecuteTime": {
     "end_time": "2022-12-08T18:14:42.835480Z",
     "start_time": "2022-12-08T18:14:42.822601Z"
    },
    "colab": {
     "base_uri": "https://localhost:8080/"
    },
    "id": "GkupSE_STxsx",
    "outputId": "2ecd4a5f-daa1-4f73-f438-ba041b42ff19"
   },
   "outputs": [],
   "source": [
    "coalition1 = get_coalition()\n",
    "instance1 = X_test.iloc[1]\n",
    "print(len(X_test))"
   ]
  },
  {
   "cell_type": "code",
   "execution_count": null,
   "metadata": {
    "ExecuteTime": {
     "end_time": "2022-12-08T18:14:42.943745Z",
     "start_time": "2022-12-08T18:14:42.836651Z"
    },
    "colab": {
     "base_uri": "https://localhost:8080/"
    },
    "id": "T95vxVa-56u2",
    "outputId": "29909e46-b30b-4641-8a33-0efd2207e7f1"
   },
   "outputs": [],
   "source": [
    "std_devs = []\n",
    "for i in X_test.columns:\n",
    "    stdev = statistics.stdev(X_test[i])\n",
    "    std_devs.append(stdev)\n",
    "print(std_devs)"
   ]
  },
  {
   "cell_type": "code",
   "execution_count": null,
   "metadata": {
    "ExecuteTime": {
     "end_time": "2022-12-08T18:14:42.959579Z",
     "start_time": "2022-12-08T18:14:42.944812Z"
    },
    "id": "AC_cuT5bW_hf"
   },
   "outputs": [],
   "source": [
    "def get_nbr_conf(instance, coalition):\n",
    "    \"\"\"\n",
    "    For every instance perturb neighbor and calculate the coefficient for the neighbor.\n",
    "    \"\"\"\n",
    "    neighbors = []\n",
    "    for i in range(len(instance) * 3):\n",
    "        z_neighbor = []\n",
    "        for count, j in enumerate(instance):\n",
    "            if coalition[count] == 1:\n",
    "                z_neighbor.append(j)\n",
    "            else:\n",
    "                stdev = std_devs[count]\n",
    "                perturbed = np.random.normal(j, stdev)\n",
    "                z_neighbor.append(perturbed)\n",
    "        neighbors.append(z_neighbor)\n",
    "    confidences = model.predict_proba(neighbors)[:,1]\n",
    "    pos_conf, neg_conf = ([] for i in range(2))\n",
    "    for count, i in enumerate(confidences):\n",
    "        if i >= .5:\n",
    "            pos_conf.append(confidences[count])\n",
    "        else:\n",
    "            neg_conf.append(confidences[count])\n",
    "    return pos_conf, neg_conf"
   ]
  },
  {
   "cell_type": "code",
   "execution_count": null,
   "metadata": {
    "ExecuteTime": {
     "end_time": "2022-12-08T18:14:42.974380Z",
     "start_time": "2022-12-08T18:14:42.960619Z"
    },
    "id": "3lxsuEkeAs_s"
   },
   "outputs": [],
   "source": [
    "def reward_function(coalition, instance, lambda_g, lambda_p, y_label):\n",
    "    \"\"\"\n",
    "    takes coalitions, selected instances, constant for generility and precision along with label\n",
    "    returns the calculated reward.\n",
    "    \"\"\"\n",
    "    pos_conf, neg_conf = get_nbr_conf(instance, coalition)\n",
    "    sum_g = 0\n",
    "    sum_p = 0\n",
    "    if y_label == 1:\n",
    "        for j in pos_conf:\n",
    "            sum_g += ((lambda_g * j) / len(pos_conf))\n",
    "        for j in neg_conf:\n",
    "            sum_p += ((lambda_p * (j - 1)) / len(neg_conf))\n",
    "    if y_label == 0:\n",
    "        for j in neg_conf:\n",
    "            sum_g += ((lambda_g * (1 - j)) / len(neg_conf))\n",
    "        for j in pos_conf:\n",
    "            sum_p += ((lambda_p * ((1 - j) - 1)) / len(pos_conf))\n",
    "    sum_coalition = (sum_g + sum_p)\n",
    "    return get_mean_constant(coalition, instance, y_label) + sum_coalition"
   ]
  },
  {
   "cell_type": "code",
   "execution_count": null,
   "metadata": {
    "ExecuteTime": {
     "end_time": "2022-12-08T18:14:42.988177Z",
     "start_time": "2022-12-08T18:14:42.975454Z"
    },
    "id": "zo-C1yL1xNC_"
   },
   "outputs": [],
   "source": [
    "#Select the constant carefully to adjust precision and generility contribution to the equation.\n",
    "lambda_g = 1\n",
    "lambda_p = 1\n",
    "# reward1 = reward_function(coalition1, instance1, lambda_g, lambda_p)"
   ]
  },
  {
   "cell_type": "code",
   "execution_count": null,
   "metadata": {
    "ExecuteTime": {
     "end_time": "2022-12-08T18:14:43.001850Z",
     "start_time": "2022-12-08T18:14:42.989290Z"
    },
    "id": "osp-yb-a0lNK"
   },
   "outputs": [],
   "source": [
    "# print(reward1)"
   ]
  },
  {
   "cell_type": "code",
   "execution_count": null,
   "metadata": {
    "ExecuteTime": {
     "end_time": "2022-12-08T18:14:43.017180Z",
     "start_time": "2022-12-08T18:14:43.003075Z"
    },
    "id": "49_tCKa50oT1"
   },
   "outputs": [],
   "source": [
    "import math\n",
    "def get_kernel(coalition):\n",
    "    M = len(coalition) - 1\n",
    "    pres = sum(coalition)\n",
    "    choose = math.factorial(M) / (math.factorial(pres) * math.factorial(M - pres))\n",
    "    kernel = (M - 1) / ((choose)*(pres)*(M - pres))\n",
    "    return kernel"
   ]
  },
  {
   "cell_type": "code",
   "execution_count": null,
   "metadata": {
    "ExecuteTime": {
     "end_time": "2022-12-08T18:14:43.032664Z",
     "start_time": "2022-12-08T18:14:43.018249Z"
    },
    "id": "6oEr2FrE8bL7"
   },
   "outputs": [],
   "source": [
    "import random\n",
    "from sklearn.linear_model import LinearRegression\n",
    "def get_coefficients_by_index(instance_ind, SHAPLEYS):\n",
    "    instance = X_test.iloc[instance_ind]\n",
    "    y_conf = prob1[instance_ind]\n",
    "    y_label = 0\n",
    "    if y_conf >= 0.5:\n",
    "        y_label = 1\n",
    "    else:\n",
    "        y_label = 0\n",
    "    lin_X = []\n",
    "    lin_y = []\n",
    "    kernels = []\n",
    "    for i in range(len(instance) * 3):\n",
    "        #print(i, end=\" \")\n",
    "        coalition = get_coalition()\n",
    "        reward = reward_function(coalition, instance, lambda_g, lambda_p, y_label)\n",
    "        lin_X.append(coalition)\n",
    "        lin_y.append(reward)\n",
    "        kernels.append(get_kernel(coalition))\n",
    "    reg = LinearRegression()\n",
    "    reg.fit(lin_X, lin_y, kernels)\n",
    "    cur_dict_shap = {'coef' : reg.coef_, 'org_label' : y_test.iloc[instance_ind], \n",
    "            'org_df_index' : X_test.iloc[instance_ind].name, 'relative_index' : instance_ind, 'y_conf' : y_conf}\n",
    "    SHAPLEYS.put(cur_dict_shap)\n",
    "    #return "
   ]
  },
  {
   "cell_type": "markdown",
   "metadata": {
    "id": "cknSk18IZE8M"
   },
   "source": [
    "## Multicore"
   ]
  },
  {
   "cell_type": "markdown",
   "metadata": {},
   "source": [
    "- For the calculation of perturbed neighbors, every calculatoin can ve very time consuming.\n",
    "- Try to use maximum amount of available CPU for the calculation\n",
    "- For our experiment, utilizing 5 CPU requires more than 2.5 hours for the calculation. By utilizing 20 CPU the time is 0.5 hours!"
   ]
  },
  {
   "cell_type": "code",
   "execution_count": null,
   "metadata": {
    "ExecuteTime": {
     "end_time": "2022-12-08T18:14:43.049945Z",
     "start_time": "2022-12-08T18:14:43.033711Z"
    },
    "colab": {
     "base_uri": "https://localhost:8080/"
    },
    "id": "fuykhXFYjgyH",
    "outputId": "1cbd3b18-5f8b-4b58-8e1c-f0a740a9d020"
   },
   "outputs": [],
   "source": [
    "from multiprocessing import cpu_count\n",
    "\n",
    "cpu_count()"
   ]
  },
  {
   "cell_type": "code",
   "execution_count": null,
   "metadata": {
    "ExecuteTime": {
     "end_time": "2022-12-08T18:14:43.064053Z",
     "start_time": "2022-12-08T18:14:43.050993Z"
    }
   },
   "outputs": [],
   "source": [
    "import multiprocessing as mp\n",
    "from multiprocessing import Pool\n",
    "from tqdm.contrib.concurrent import process_map\n",
    "from multiprocessing import Manager\n",
    "from functools import partial"
   ]
  },
  {
   "cell_type": "code",
   "execution_count": null,
   "metadata": {},
   "outputs": [],
   "source": [
    "no_of_cpu_to_use = 5"
   ]
  },
  {
   "cell_type": "code",
   "execution_count": null,
   "metadata": {
    "ExecuteTime": {
     "start_time": "2022-12-08T18:14:32.321Z"
    }
   },
   "outputs": [],
   "source": [
    "results = []\n",
    "for chunk in tqdm(range(0, len(X_test), no_of_cpu_to_use)):\n",
    "    SHAPLEYS = mp.Queue()\n",
    "    processes = [mp.Process(target=get_coefficients_by_index, args=(x, SHAPLEYS)) for x in tqdm(range(chunk, chunk+no_of_cpu_to_use, 1))]\n",
    "    # Run processes\n",
    "    for p in tqdm(processes):\n",
    "        p.start()\n",
    "\n",
    "    # Exit the completed processes\n",
    "    for p in processes:\n",
    "        p.join()\n",
    "    results += [SHAPLEYS.get() for p in processes]\n",
    "    print(len(results))"
   ]
  },
  {
   "cell_type": "code",
   "execution_count": null,
   "metadata": {
    "ExecuteTime": {
     "start_time": "2022-12-08T17:53:45.754Z"
    }
   },
   "outputs": [],
   "source": [
    "df_result = pd.DataFrame(results)\n",
    "df_result.to_pickle('reward_power_p1_g1_v2.pickle')"
   ]
  },
  {
   "cell_type": "code",
   "execution_count": null,
   "metadata": {
    "ExecuteTime": {
     "start_time": "2022-12-08T17:53:46.201Z"
    }
   },
   "outputs": [],
   "source": [
    "df_gaps_reward = df_result.copy()"
   ]
  },
  {
   "cell_type": "markdown",
   "metadata": {},
   "source": [
    "# Explainability"
   ]
  },
  {
   "cell_type": "code",
   "execution_count": null,
   "metadata": {
    "ExecuteTime": {
     "start_time": "2022-12-08T17:53:47.241Z"
    }
   },
   "outputs": [],
   "source": [
    "np_arr_lime_val_x_test = np.empty((0,X_test.shape[1]), float)\n",
    "np_arr_lime_imp_x_test = np.empty((0,X_test.shape[1]), float)\n",
    "np_arr_shap_val_x_test = np.empty((0,X_test.shape[1]), float)\n",
    "np_arr_shap_imp_x_test = np.empty((0,X_test.shape[1]), float)\n",
    "\n",
    "\n",
    "explainer_lime = lime.lime_tabular.LimeTabularExplainer(X_train.to_numpy(), feature_names=X_test.columns, class_names=target_names, discretize_continuous=False)\n",
    "explainer_shap = shap.TreeExplainer(rf, feature_perturbation = \"interventional\") \n",
    "\n",
    "\n",
    "#for _idx in tqdm(range(X_test.shape[0])):\n",
    "for _idx in tqdm(range(X_test.shape[0])):\n",
    "    #lime\n",
    "    \n",
    "    exp_lime = explainer_lime.explain_instance(X_test.iloc[_idx], rf.predict_proba, num_features = len(X_test.columns))\n",
    "    #lime_pos_features = [y[0] for indx,y in enumerate(exp_lime.as_map()[1]) if y[1] >= 0]\n",
    "\n",
    "    #importancy of features [starting from 0]\n",
    "    lime_importency = np.argsort([y[0] for y in exp_lime.as_map()[1]])\n",
    "    np_arr_lime_imp_x_test = np.append(np_arr_lime_imp_x_test, [lime_importency], axis=0)\n",
    "    ###########np_arr_lime_imp_x_test[_idx] = lime_importency\n",
    "    \n",
    "    #values for corresponding indexes\n",
    "    sorted_indexes = sorted(exp_lime.as_map()[1], key=lambda k: k[0]) \n",
    "    lime_sorted_value = np.array([y[1] for y in sorted_indexes])\n",
    "    np_arr_lime_val_x_test = np.append(np_arr_lime_val_x_test, [lime_sorted_value], axis=0)\n",
    "    #############np_arr_lime_val_x_test[_idx] = lime_sorted_value\n",
    "    \n",
    "    #shap\n",
    "    \n",
    "    shap_values_individual = explainer_shap.shap_values(X_test.iloc[_idx, :])\n",
    "    shap_features = list(np.argsort(shap_values_individual[1])[::-1])\n",
    "    \n",
    "    \n",
    "    np_arr_shap_val_x_test = np.append(np_arr_shap_val_x_test,[shap_values_individual[1]], axis=0)\n",
    "    np_arr_shap_imp_x_test = np.append(np_arr_shap_imp_x_test, [np.argsort(shap_values_individual[1])[::-1]], axis=0)\n",
    "    \n"
   ]
  },
  {
   "cell_type": "code",
   "execution_count": null,
   "metadata": {
    "ExecuteTime": {
     "start_time": "2022-12-08T17:53:47.863Z"
    }
   },
   "outputs": [],
   "source": [
    "y_test_predicted = rf.predict(X_test)\n",
    "np_arr_lime_imp_x_test_correctly_classified_attack = np_arr_lime_imp_x_test[ (y_test == y_test_predicted) & (y_test_predicted == 1)]\n",
    "np_arr_lime_imp_x_test_correctly_classified_natural = np_arr_lime_imp_x_test[ (y_test == y_test_predicted) & (y_test_predicted == 0)]\n",
    "\n",
    "X_test_correctly_classified_attack = X_test.values[(y_test == y_test_predicted) & (y_test_predicted == 1)]\n",
    "X_test_correctly_classified_natural = X_test.values[(y_test == y_test_predicted) & (y_test_predicted == 0)]\n",
    "\n",
    "feature_attack_sorted = np_arr_lime_imp_x_test_correctly_classified_attack.copy()\n",
    "feature_natural_sorted = np_arr_lime_imp_x_test_correctly_classified_natural.copy()"
   ]
  },
  {
   "cell_type": "code",
   "execution_count": null,
   "metadata": {
    "ExecuteTime": {
     "start_time": "2022-12-08T17:53:48.377Z"
    }
   },
   "outputs": [],
   "source": [
    "all_k_attack_list_lime_original = []\n",
    "for k in tqdm(range(1, 20, 1), desc = \"k \"):\n",
    "    features_to_consider = k\n",
    "    list_attack_top_features_nutral_count_k = []\n",
    "\n",
    "    for attack_index in range(feature_attack_sorted.shape[0]):\n",
    "        top_attack_features = feature_attack_sorted[attack_index][:features_to_consider]\n",
    "        #print('top_attack_features : ', top_attack_features)\n",
    "        top_attack_value = X_test_correctly_classified_attack[attack_index, top_attack_features.astype(int)]\n",
    "\n",
    "        total_natural_count = 0\n",
    "        top_features_matched_natural_count = 0\n",
    "\n",
    "        for natural_index in range(feature_natural_sorted.shape[0]):\n",
    "\n",
    "            #current_natural_features = np.where(x_test_correctly_classified_natural[natural_index] == 1)[1]\n",
    "            #current_natural_features = feature_natural_sorted[natural_index, :features_to_consider]\n",
    "            current_natural_value = X_test_correctly_classified_natural[natural_index, top_attack_features.astype(int)]\n",
    "            \n",
    "\n",
    "            #checking top features\n",
    "            #top_feature_match_count = len(np.intersect1d(top_attack_features, current_natural_features)) \n",
    "            '''\n",
    "            top_feature_match_count = 0\n",
    "            for current_top_feature in top_malware_features:\n",
    "                if current_top_feature in current_goodware_features:\n",
    "                    top_feature_match_count = top_feature_match_count +1\n",
    "            '''\n",
    "\n",
    "            #if top_feature_match_count >= features_to_consider:\n",
    "            if np.array_equal(top_attack_value, current_natural_value):\n",
    "                top_features_matched_natural_count += 1\n",
    "\n",
    "        current_attack_stat = {'index' : attack_index, \"natural_matching_top_k_feature\" : top_features_matched_natural_count}\n",
    "\n",
    "        #print(current_malware_stat)\n",
    "        list_attack_top_features_nutral_count_k.append(current_attack_stat)\n",
    "    current_k = {'k': k, 'list_attack_top_features_nutral_count_k': list_attack_top_features_nutral_count_k}\n",
    "    all_k_attack_list_lime_original.append(current_k)"
   ]
  },
  {
   "cell_type": "code",
   "execution_count": null,
   "metadata": {
    "ExecuteTime": {
     "start_time": "2022-12-08T17:53:48.911Z"
    }
   },
   "outputs": [],
   "source": [
    "lst_dic_match_value_lime_original = []\n",
    "\n",
    "for i_attack in all_k_attack_list_lime_original: \n",
    "    dic_match_value = {}\n",
    "    dic_match_value[\"k\"] = i_attack[\"k\"]\n",
    "    dic_match_value[\"lst_number_of_matched\"] = [spec_val[\"natural_matching_top_k_feature\"] for spec_val in i_attack[\"list_attack_top_features_nutral_count_k\"]]\n",
    "    lst_dic_match_value_lime_original.append(dic_match_value)"
   ]
  },
  {
   "cell_type": "code",
   "execution_count": null,
   "metadata": {
    "ExecuteTime": {
     "start_time": "2022-12-08T17:53:49.449Z"
    }
   },
   "outputs": [],
   "source": [
    "lst_sum_lime_original = []\n",
    "for _item in lst_dic_match_value_lime_original:\n",
    "    _tmp_sum = 0\n",
    "    for _i_item in _item['lst_number_of_matched']:\n",
    "        if _i_item > 0:\n",
    "            _tmp_sum+= 1\n",
    "    lst_sum_lime_original.append(_tmp_sum)"
   ]
  },
  {
   "cell_type": "code",
   "execution_count": null,
   "metadata": {},
   "outputs": [],
   "source": []
  },
  {
   "cell_type": "markdown",
   "metadata": {},
   "source": [
    "## Shap"
   ]
  },
  {
   "cell_type": "code",
   "execution_count": null,
   "metadata": {
    "ExecuteTime": {
     "start_time": "2022-12-08T17:53:50.336Z"
    }
   },
   "outputs": [],
   "source": [
    "y_test_predicted = rf.predict(X_test)\n",
    "np_arr_shap_imp_x_test_correctly_classified_attack = np_arr_shap_imp_x_test[ (y_test == y_test_predicted) & (y_test_predicted == 1)]\n",
    "np_arr_shap_imp_x_test_correctly_classified_natural = np_arr_shap_imp_x_test[ (y_test == y_test_predicted) & (y_test_predicted == 0)]"
   ]
  },
  {
   "cell_type": "code",
   "execution_count": null,
   "metadata": {
    "ExecuteTime": {
     "start_time": "2022-12-08T17:53:50.777Z"
    }
   },
   "outputs": [],
   "source": [
    "X_test_correctly_classified_attack = X_test.values[(y_test == y_test_predicted) & (y_test_predicted == 1)]\n",
    "X_test_correctly_classified_natural = X_test.values[(y_test == y_test_predicted) & (y_test_predicted == 0)]"
   ]
  },
  {
   "cell_type": "code",
   "execution_count": null,
   "metadata": {
    "ExecuteTime": {
     "start_time": "2022-12-08T17:53:51.177Z"
    }
   },
   "outputs": [],
   "source": [
    "feature_attack_sorted = np_arr_shap_imp_x_test_correctly_classified_attack.copy()\n",
    "feature_natural_sorted = np_arr_shap_imp_x_test_correctly_classified_natural.copy()"
   ]
  },
  {
   "cell_type": "code",
   "execution_count": null,
   "metadata": {
    "ExecuteTime": {
     "start_time": "2022-12-08T17:53:51.537Z"
    }
   },
   "outputs": [],
   "source": [
    "all_k_attack_list_shap_original = []\n",
    "for k in tqdm(range(1, 20, 1), desc = \"k \"):\n",
    "    features_to_consider = k\n",
    "    list_attack_top_features_nutral_count_k = []\n",
    "\n",
    "    for attack_index in range(feature_attack_sorted.shape[0]):\n",
    "        top_attack_features = feature_attack_sorted[attack_index][:features_to_consider]\n",
    "        #print('top_attack_features : ', top_attack_features)\n",
    "        top_attack_value = X_test_correctly_classified_attack[attack_index, top_attack_features.astype(int)]\n",
    "\n",
    "        total_natural_count = 0\n",
    "        top_features_matched_natural_count = 0\n",
    "\n",
    "        for natural_index in range(feature_natural_sorted.shape[0]):\n",
    "\n",
    "            #current_natural_features = np.where(x_test_correctly_classified_natural[natural_index] == 1)[1]\n",
    "            #current_natural_features = feature_natural_sorted[natural_index, :features_to_consider]\n",
    "            current_natural_value = X_test_correctly_classified_natural[natural_index, top_attack_features.astype(int)]\n",
    "            \n",
    "\n",
    "            #checking top features\n",
    "            #top_feature_match_count = len(np.intersect1d(top_attack_features, current_natural_features)) \n",
    "            '''\n",
    "            top_feature_match_count = 0\n",
    "            for current_top_feature in top_malware_features:\n",
    "                if current_top_feature in current_goodware_features:\n",
    "                    top_feature_match_count = top_feature_match_count +1\n",
    "            '''\n",
    "\n",
    "            #if top_feature_match_count >= features_to_consider:\n",
    "            if np.array_equal(top_attack_value, current_natural_value):\n",
    "                top_features_matched_natural_count += 1\n",
    "\n",
    "        current_attack_stat = {'index' : attack_index, \"natural_matching_top_k_feature\" : top_features_matched_natural_count}\n",
    "\n",
    "        #print(current_malware_stat)\n",
    "        list_attack_top_features_nutral_count_k.append(current_attack_stat)\n",
    "    current_k = {'k': k, 'list_attack_top_features_nutral_count_k': list_attack_top_features_nutral_count_k}\n",
    "    all_k_attack_list_shap_original.append(current_k)"
   ]
  },
  {
   "cell_type": "code",
   "execution_count": null,
   "metadata": {
    "ExecuteTime": {
     "start_time": "2022-12-08T17:53:52.169Z"
    }
   },
   "outputs": [],
   "source": [
    "lst_dic_match_value_shap_original = []\n",
    "\n",
    "for i_attack in all_k_attack_list_shap_original: \n",
    "    dic_match_value = {}\n",
    "    dic_match_value[\"k\"] = i_attack[\"k\"]\n",
    "    dic_match_value[\"lst_number_of_matched\"] = [spec_val[\"natural_matching_top_k_feature\"] for spec_val in i_attack[\"list_attack_top_features_nutral_count_k\"]]\n",
    "    lst_dic_match_value_shap_original.append(dic_match_value)"
   ]
  },
  {
   "cell_type": "code",
   "execution_count": null,
   "metadata": {
    "ExecuteTime": {
     "start_time": "2022-12-08T17:53:52.929Z"
    }
   },
   "outputs": [],
   "source": [
    "lst_sum_shap_original = []\n",
    "for _item in lst_dic_match_value_shap_original:\n",
    "    _tmp_sum = 0\n",
    "    for _i_item in _item['lst_number_of_matched']:\n",
    "        if _i_item > 0:\n",
    "            _tmp_sum+= 1\n",
    "    lst_sum_shap_original.append(_tmp_sum)"
   ]
  },
  {
   "cell_type": "code",
   "execution_count": null,
   "metadata": {
    "ExecuteTime": {
     "start_time": "2022-12-08T17:53:53.160Z"
    }
   },
   "outputs": [],
   "source": [
    "coun_shap_sum = np.array([_x[\"lst_number_of_matched\"] for _x in lst_dic_match_value_shap_original[:10]])"
   ]
  },
  {
   "cell_type": "code",
   "execution_count": null,
   "metadata": {},
   "outputs": [],
   "source": []
  },
  {
   "cell_type": "markdown",
   "metadata": {},
   "source": [
    "## GAPS"
   ]
  },
  {
   "cell_type": "code",
   "execution_count": null,
   "metadata": {
    "ExecuteTime": {
     "start_time": "2022-12-08T17:53:54.329Z"
    }
   },
   "outputs": [],
   "source": [
    "def get_featureimportance_by_value(cur_row_vals):\n",
    "    return [np.argsort(cur_row_vals)[::-1]]\n",
    "\n",
    "\n",
    "df_gaps_reward['feature_imp'] = df_gaps_reward.apply(lambda x: get_featureimportance_by_value(x['coef']), axis=1)"
   ]
  },
  {
   "cell_type": "code",
   "execution_count": null,
   "metadata": {
    "ExecuteTime": {
     "start_time": "2022-12-08T17:53:54.535Z"
    }
   },
   "outputs": [],
   "source": [
    "np_arr_gaps_imp_x_test_correctly_classified_attack_list = df_gaps_reward['feature_imp'].values[ (y_test == y_test_predicted) & (y_test_predicted == 1)]\n",
    "np_arr_gaps_imp_x_test_correctly_classified_natural_list = df_gaps_reward['feature_imp'].values[ (y_test == y_test_predicted) & (y_test_predicted == 0)]\n",
    "\n",
    "np_arr_gaps_imp_x_test_correctly_classified_attack = np.array([x[0] for x in np_arr_gaps_imp_x_test_correctly_classified_attack_list])\n",
    "np_arr_gaps_imp_x_test_correctly_classified_natural = np.array([x[0] for x in np_arr_gaps_imp_x_test_correctly_classified_natural_list])\n",
    "\n",
    "feature_attack_sorted = np_arr_gaps_imp_x_test_correctly_classified_attack.copy()\n",
    "feature_natural_sorted = np_arr_gaps_imp_x_test_correctly_classified_natural.copy()"
   ]
  },
  {
   "cell_type": "code",
   "execution_count": null,
   "metadata": {
    "ExecuteTime": {
     "start_time": "2022-12-08T17:53:54.729Z"
    }
   },
   "outputs": [],
   "source": [
    "all_k_attack_list_gaps_original = []\n",
    "for k in tqdm(range(1, 20, 1), desc = \"k \"):\n",
    "    features_to_consider = k\n",
    "    list_attack_top_features_nutral_count_k = []\n",
    "\n",
    "    for attack_index in range(feature_attack_sorted.shape[0]) :\n",
    "        top_attack_features = feature_attack_sorted[attack_index][:features_to_consider]\n",
    "        #print('top_attack_features : ', top_attack_features)\n",
    "        top_attack_value = X_test_correctly_classified_attack[attack_index, top_attack_features.astype(int)]\n",
    "\n",
    "        total_natural_count = 0\n",
    "        top_features_matched_natural_count = 0\n",
    "\n",
    "        for natural_index in range(feature_natural_sorted.shape[0]):\n",
    "\n",
    "            #current_natural_features = np.where(x_test_correctly_classified_natural[natural_index] == 1)[1]\n",
    "            #current_natural_features = feature_natural_sorted[natural_index, :features_to_consider]\n",
    "            current_natural_value = X_test_correctly_classified_natural[natural_index, top_attack_features.astype(int)]\n",
    "            \n",
    "\n",
    "            #checking top features\n",
    "            #top_feature_match_count = len(np.intersect1d(top_attack_features, current_natural_features)) \n",
    "            '''\n",
    "            top_feature_match_count = 0\n",
    "            for current_top_feature in top_malware_features:\n",
    "                if current_top_feature in current_goodware_features:\n",
    "                    top_feature_match_count = top_feature_match_count +1\n",
    "            '''\n",
    "\n",
    "            #if top_feature_match_count >= features_to_consider:\n",
    "            if np.array_equal(top_attack_value, current_natural_value):\n",
    "                top_features_matched_natural_count += 1\n",
    "\n",
    "        current_attack_stat = {'index' : attack_index, \"natural_matching_top_k_feature\" : top_features_matched_natural_count}\n",
    "\n",
    "        #print(current_malware_stat)\n",
    "        list_attack_top_features_nutral_count_k.append(current_attack_stat)\n",
    "    current_k = {'k': k, 'list_attack_top_features_nutral_count_k': list_attack_top_features_nutral_count_k}\n",
    "    all_k_attack_list_gaps_original.append(current_k)"
   ]
  },
  {
   "cell_type": "code",
   "execution_count": null,
   "metadata": {
    "ExecuteTime": {
     "start_time": "2022-12-08T17:53:55.289Z"
    }
   },
   "outputs": [],
   "source": [
    "lst_dic_match_value_gaps_original = []\n",
    "\n",
    "for i_attack in all_k_attack_list_gaps_original: \n",
    "    dic_match_value = {}\n",
    "    dic_match_value[\"k\"] = i_attack[\"k\"]\n",
    "    dic_match_value[\"lst_number_of_matched\"] = [spec_val[\"natural_matching_top_k_feature\"] for spec_val in i_attack[\"list_attack_top_features_nutral_count_k\"]]\n",
    "    lst_dic_match_value_gaps_original.append(dic_match_value)"
   ]
  },
  {
   "cell_type": "code",
   "execution_count": null,
   "metadata": {
    "ExecuteTime": {
     "start_time": "2022-12-08T17:53:55.688Z"
    }
   },
   "outputs": [],
   "source": [
    "lst_sum_gaps_original = []\n",
    "for _item in lst_dic_match_value_gaps_original:\n",
    "    _tmp_sum = 0\n",
    "    for _i_item in _item['lst_number_of_matched']:\n",
    "        if _i_item > 0:\n",
    "            _tmp_sum+= 1\n",
    "    lst_sum_gaps_original.append(_tmp_sum)"
   ]
  },
  {
   "cell_type": "code",
   "execution_count": null,
   "metadata": {
    "ExecuteTime": {
     "start_time": "2022-12-08T17:53:56.104Z"
    }
   },
   "outputs": [],
   "source": [
    "coun_gaps_sum = np.array([_x[\"lst_number_of_matched\"] for _x in lst_dic_match_value_gaps_original[:21]])"
   ]
  },
  {
   "cell_type": "code",
   "execution_count": null,
   "metadata": {},
   "outputs": [],
   "source": []
  },
  {
   "cell_type": "markdown",
   "metadata": {},
   "source": [
    "## Compare and analysis"
   ]
  },
  {
   "cell_type": "markdown",
   "metadata": {},
   "source": [
    "### Plot"
   ]
  },
  {
   "cell_type": "code",
   "execution_count": null,
   "metadata": {
    "ExecuteTime": {
     "start_time": "2022-12-08T17:53:57.952Z"
    }
   },
   "outputs": [],
   "source": [
    "lst_sum_lime_original_cent = [(_x/feature_attack_sorted.shape[0])*100 for _x in lst_sum_lime_original]\n",
    "lst_sum_shap_original_cent = [(_x/feature_attack_sorted.shape[0])*100 for _x in lst_sum_shap_original]\n",
    "lst_sum_shap_our_cent = [(_x/feature_attack_sorted.shape[0])*100 for _x in lst_sum_gaps_original]"
   ]
  },
  {
   "cell_type": "code",
   "execution_count": null,
   "metadata": {
    "ExecuteTime": {
     "start_time": "2022-12-08T17:53:59.433Z"
    }
   },
   "outputs": [],
   "source": [
    "import numpy as np\n",
    "import matplotlib.pyplot as plt\n",
    "import seaborn as sns\n",
    "\n",
    "with sns.axes_style(\"whitegrid\"):\n",
    "    data = [lst_sum_lime_original_cent[:20],\n",
    "    lst_sum_shap_original_cent[:20],\n",
    "    lst_sum_shap_our_cent[:20]]\n",
    "    X = np.arange(1,20,1)\n",
    "    fig = plt.figure(figsize=(20, 5))\n",
    "    ax = fig.add_axes([0,1,1,1])\n",
    "    b1= ax.bar(X + 0.00, data[0], width = 0.25, color = 'w', hatch = '//', edgecolor='k')\n",
    "    b2 = ax.bar(X + 0.25, data[1], width = 0.25, color = 'w', hatch = '..', edgecolor='k')\n",
    "    b3 = ax.bar(X + 0.50, data[2], width = 0.25, color = 'w', hatch = '++', edgecolor='k')\n",
    "    \n",
    "    #plt.xticks(np.arange(0,11,1))\n",
    "    #plt.xticks(ha='right')\n",
    "#     plt.xticks(X + 0.25, ('1', '2', '3', '4', '5', '6', '7', '8', '9', '10'))\n",
    "    plt.xticks(X + 0.25, ('1', '2', '3', '4', '5', '6', '7', '8', '9', '10',\n",
    "                         '11', '12', '13', '14', '15', '16', '17', '18', '19'))\n",
    "\n",
    "    plt.yticks(np.arange(0,40,5))\n",
    "    \n",
    "    plt.legend([b1,b2,b3],[\"Lime\", \"Shap\", \"GAPS\"], bbox_to_anchor=(0.0, 0.35, 1.0, 1.0), loc='right',\n",
    "           ncol=1,  borderaxespad=2.0, prop={'size': 14})\n",
    "    \n",
    "    plt.xlabel('Number of K considered')\n",
    "    plt.ylabel('% of natural event matches with attack')\n",
    "    #plt.title('Here goes title of the plot')\n",
    "    plt.show()"
   ]
  },
  {
   "cell_type": "code",
   "execution_count": null,
   "metadata": {
    "ExecuteTime": {
     "start_time": "2022-12-08T17:54:00.664Z"
    }
   },
   "outputs": [],
   "source": [
    "coun_gaps_sum = np.array([_x[\"lst_number_of_matched\"] for _x in lst_dic_match_value_gaps_original[:11]])\n",
    "\n",
    "lst_sum_lime_original_cent = [(_x/feature_attack_sorted.shape[0])*100 for _x in lst_sum_lime_original]\n",
    "lst_sum_shap_original_cent = [(_x/feature_attack_sorted.shape[0])*100 for _x in lst_sum_shap_original]\n",
    "lst_sum_shap_our_cent = [(_x/feature_attack_sorted.shape[0])*100 for _x in lst_sum_gaps_original]"
   ]
  },
  {
   "cell_type": "code",
   "execution_count": null,
   "metadata": {
    "ExecuteTime": {
     "start_time": "2022-12-08T17:54:01.208Z"
    }
   },
   "outputs": [],
   "source": [
    "import numpy as np\n",
    "import matplotlib.pyplot as plt\n",
    "import seaborn as sns\n",
    "\n",
    "with sns.axes_style(\"whitegrid\"):\n",
    "    data = [lst_sum_lime_original_cent[:10],\n",
    "    lst_sum_shap_original_cent[:10],\n",
    "    lst_sum_shap_our_cent[:10]]\n",
    "    X = np.arange(1,11,1)\n",
    "    fig = plt.figure(figsize=(10, 5))\n",
    "    ax = fig.add_axes([0,1,1,1])\n",
    "    b1= ax.bar(X + 0.00, data[0], width = 0.25, color = 'w', hatch = '///', edgecolor='k')\n",
    "    b2 = ax.bar(X + 0.25, data[1], width = 0.25, color = 'w', hatch = '...', edgecolor='k')\n",
    "    b3 = ax.bar(X + 0.50, data[2], width = 0.25, color = 'w', hatch = '+++', edgecolor='k')\n",
    "    \n",
    "    #plt.xticks(np.arange(0,11,1))\n",
    "    #plt.xticks(ha='right')\n",
    "    plt.xticks(X + 0.25, ('1', '2', '3', '4', '5', '6', '7', '8', '9', '10'))\n",
    "\n",
    "    plt.yticks(np.arange(0,110,10))\n",
    "    \n",
    "    plt.legend([b1,b2,b3],[\"Lime\", \"Shap\", \"GAPS\"], bbox_to_anchor=(0.0, 0.35, 1.0, 1.0), loc='right',\n",
    "           ncol=1,  borderaxespad=2.0, prop={'size': 14})\n",
    "    \n",
    "    plt.xlabel('Number of K considered')\n",
    "    plt.ylabel('% of natural event matches with attack')\n",
    "    #plt.title('Here goes title of the plot')\n",
    "    plt.show()"
   ]
  },
  {
   "cell_type": "markdown",
   "metadata": {},
   "source": [
    "### Generality"
   ]
  },
  {
   "cell_type": "markdown",
   "metadata": {},
   "source": [
    "#### Distance Measure"
   ]
  },
  {
   "cell_type": "code",
   "execution_count": null,
   "metadata": {
    "ExecuteTime": {
     "start_time": "2022-12-08T17:54:02.985Z"
    }
   },
   "outputs": [],
   "source": [
    "from math import*\n",
    "\n",
    "def cal_jaccard_distance(x, y):\n",
    "    intersection_cardinality = len(set.intersection(*[set(x), set(y)]))\n",
    "    union_cardinality = len(set.union(*[set(x), set(y)]))\n",
    "    return intersection_cardinality/float(union_cardinality)\n",
    "\n",
    "def cal_intersection_size(x, y):\n",
    "    return len(set.intersection(*[set(x), set(y)]))\n",
    "    \n",
    "def euclidean_distance(x,y):\n",
    "    return sqrt(sum(pow(a-b,2) for a, b in zip(x, y)))\n",
    "\n",
    "\n",
    "def square_rooted(x): \n",
    "    return round(sqrt(sum([a*a for a in x])),3)\n",
    " \n",
    "def cosine_similarity(x,y): \n",
    "    numerator = sum(a*b for a,b in zip(x,y))\n",
    "    denominator = square_rooted(x)*square_rooted(y)\n",
    "    return round(numerator/float(denominator),3)"
   ]
  },
  {
   "cell_type": "code",
   "execution_count": null,
   "metadata": {
    "ExecuteTime": {
     "start_time": "2022-12-08T17:54:03.449Z"
    }
   },
   "outputs": [],
   "source": [
    "def euclidian_distance(a, b):\n",
    "    return np.sqrt(np.sum((a-b)**2, axis=1))"
   ]
  },
  {
   "cell_type": "code",
   "execution_count": null,
   "metadata": {
    "ExecuteTime": {
     "start_time": "2022-12-08T17:54:03.993Z"
    }
   },
   "outputs": [],
   "source": [
    "no_of_feature_considered = 50"
   ]
  },
  {
   "cell_type": "code",
   "execution_count": null,
   "metadata": {
    "ExecuteTime": {
     "start_time": "2022-12-08T17:54:04.681Z"
    }
   },
   "outputs": [],
   "source": [
    "jaccard_vec = np.array([0.0 for x in range(no_of_feature_considered)])\n",
    "jaccard_vec_cal = np.array([0.0 for x in range(no_of_feature_considered)])\n",
    "intersection_dis_vec = np.array([0.0 for x in range(no_of_feature_considered)])\n",
    "cosine_dist_vec = np.array([0.0 for x in range(no_of_feature_considered)])\n",
    "euclidean_vec = np.array([0.0 for x in range(no_of_feature_considered)])"
   ]
  },
  {
   "cell_type": "code",
   "execution_count": null,
   "metadata": {
    "ExecuteTime": {
     "start_time": "2022-12-08T17:54:04.896Z"
    }
   },
   "outputs": [],
   "source": [
    "from sklearn.metrics import jaccard_score\n",
    "\n",
    "for _idx in tqdm(range(X_test.shape[0])):\n",
    "    #lime\n",
    "    \n",
    "    exp_lime = explainer_lime.explain_instance(X_test.iloc[_idx], rf.predict_proba, num_features = len(X_test.columns))\n",
    "    lime_pos_features = [y[0] for indx,y in enumerate(exp_lime.as_map()[1]) if y[1] >= 0]\n",
    "    \n",
    "    #shap\n",
    "    shap_values_individual = explainer_shap.shap_values(X_test.iloc[_idx, :])\n",
    "    shap_features = list(np.argsort(shap_values_individual[1])[::-1])\n",
    "    \n",
    "    \n",
    "    for kth_feature in range(1,no_of_feature_considered):\n",
    "        lime_k_feature = lime_pos_features[:kth_feature]\n",
    "        shap_k_feature = shap_features[:kth_feature]\n",
    "        \n",
    "        vec_lime_k_feature = np.zeros(len(X_test.columns))\n",
    "        vec_lime_k_feature[lime_k_feature] = 1\n",
    "        vec_shap_k_feature = np.zeros(len(X_test.columns))\n",
    "        vec_shap_k_feature[shap_k_feature] = 1\n",
    "\n",
    "        jaccard_vec[kth_feature] += float(jaccard_score(vec_lime_k_feature, vec_shap_k_feature))\n",
    "        \n",
    "        jaccard_vec_cal[kth_feature] += cal_jaccard_distance(lime_k_feature, shap_k_feature)\n",
    "        \n",
    "        intersection_dis_vec[kth_feature] += cal_intersection_size(lime_k_feature, shap_k_feature)\n",
    "        \n",
    "        cosine_dist_vec[kth_feature] += cosine_similarity(lime_k_feature, shap_k_feature)\n",
    "        \n",
    "        euclidean_vec[kth_feature] += euclidean_distance(lime_k_feature, shap_k_feature)"
   ]
  },
  {
   "cell_type": "code",
   "execution_count": null,
   "metadata": {
    "ExecuteTime": {
     "start_time": "2022-12-08T17:54:05.136Z"
    }
   },
   "outputs": [],
   "source": [
    "jaccard_vec_avg = np.array([0.0 for x in range(no_of_feature_considered)])\n",
    "jaccard_vec_cal_avg = np.array([0.0 for x in range(no_of_feature_considered)])\n",
    "intersection_dis_vec_avg = np.array([0.0 for x in range(no_of_feature_considered)])\n",
    "cosine_dist_vec_avg = np.array([0.0 for x in range(no_of_feature_considered)])\n",
    "euclidean_vec_avg = np.array([0.0 for x in range(no_of_feature_considered)])\n",
    "\n",
    "\n",
    "for kth_feature in tqdm(range(no_of_feature_considered)):\n",
    "    jaccard_vec_avg[kth_feature]=jaccard_vec[kth_feature]/X_test.shape[0]\n",
    "    jaccard_vec_cal_avg[kth_feature] = jaccard_vec_cal[kth_feature]/X_test.shape[0]\n",
    "    intersection_dis_vec_avg[kth_feature] = intersection_dis_vec[kth_feature]/X_test.shape[0]\n",
    "    cosine_dist_vec_avg[kth_feature] = cosine_dist_vec[kth_feature]/X_test.shape[0]\n",
    "    euclidean_vec_avg[kth_feature] = euclidean_vec[kth_feature]/X_test.shape[0] "
   ]
  },
  {
   "cell_type": "code",
   "execution_count": null,
   "metadata": {
    "ExecuteTime": {
     "start_time": "2022-12-08T17:54:06.008Z"
    }
   },
   "outputs": [],
   "source": [
    "#plt.figure()\n",
    "with sns.axes_style(\"whitegrid\"):\n",
    "    fig = plt.figure(figsize=(15,7))\n",
    "    #fig.suptitle('Consistancy', fontsize=20)\n",
    "    ax = plt.axes()\n",
    "    #plt.plot(np.arange(1,num_feature_considered), jaccard_vec_avg[1:], '^', color='#006aff', label = \"Jaccared scikitlearn\", linestyle=':')        # specify color by name\n",
    "    #plt.plot(np.arange(1,num_feature_considered), jaccard_vec_cal_avg[1:], 'v', color='#0b7300', label = \"Jaccared calculated\", linestyle='-.')           # short color code (rgbcmyk)\n",
    "    #plt.plot(np.arange(1,no_of_feature_considered), intersection_dis_vec_avg[1:], color='k', label = \"Intersection length\", marker='8')        # Grayscale between 0 and 1\n",
    "    #plt.plot(np.arange(1,num_feature_considered), cosine_dist_vec_avg[1:], color='#9500ff', label = \"Cosine similarity\")     # Hex code (RRGGBB from 00 to FF)\n",
    "    #plt.plot(np.arange(1,num_feature_considered), euclidean_vec_avg[1:], color=(1.0,0.2,0.3), label = \"Euclidian similarity\") # RGB tuple, values 0 to 1\n",
    "\n",
    "    plt.plot(np.arange(1,no_of_feature_considered), intersection_dis_vec_avg[1:], color='k', label = \"Intersection length\", marker='8')        # Grayscale between 0 and 1\n",
    "    #plt.plot(np.arange(1,no_of_feature_considered), euclidean_vec_avg[1:], '^', color='k', label = \"Jaccared scikitlearn\", linestyle=':')        # specify color by name\n",
    "    \n",
    "    plt.legend(numpoints=1)\n",
    "    plt.xticks(np.arange(0,55,5))\n",
    "    #plt.yticks(np.arange(0,300,50))\n",
    "    plt.yticks(np.arange(0,30,5))\n",
    "    plt.xlabel('Number of K considered', fontsize=18)\n",
    "    plt.ylabel('% of intersection points', fontsize=18)\n",
    "    plt.show()\n"
   ]
  },
  {
   "cell_type": "markdown",
   "metadata": {},
   "source": [
    "### Calculation Generality"
   ]
  },
  {
   "cell_type": "code",
   "execution_count": null,
   "metadata": {
    "ExecuteTime": {
     "start_time": "2022-12-08T17:54:07.297Z"
    }
   },
   "outputs": [],
   "source": [
    "import numpy as np\n",
    "from scipy.spatial.distance import cdist\n",
    "from scipy.spatial import KDTree\n",
    "from scipy.spatial import cKDTree"
   ]
  },
  {
   "cell_type": "code",
   "execution_count": null,
   "metadata": {
    "ExecuteTime": {
     "start_time": "2022-12-08T17:54:07.528Z"
    }
   },
   "outputs": [],
   "source": [
    "data = X_test_correctly_classified_attack.copy()\n",
    "tree = cKDTree(data)\n",
    "dists = tree.query(data, 2)\n",
    "nn_dist = dists[0][:, 1]"
   ]
  },
  {
   "cell_type": "code",
   "execution_count": null,
   "metadata": {
    "ExecuteTime": {
     "start_time": "2022-12-08T17:54:08.032Z"
    }
   },
   "outputs": [],
   "source": [
    "def kneighbors(np_ary_to_find_dist, return_distance=False):\n",
    "       \n",
    "        n_neighbors = 375\n",
    "        dist = []\n",
    "        neigh_ind = []\n",
    "        \n",
    "        point_dist = [euclidian_distance(cur_row, np_ary_to_find_dist) for cur_row in np_ary_to_find_dist]\n",
    "\n",
    "        for row in point_dist:\n",
    "            enum_neigh = enumerate(row)\n",
    "            sorted_neigh = sorted(enum_neigh, key=lambda x: x[1])[1:n_neighbors+1]\n",
    "    \n",
    "            ind_list = [tup[0] for tup in sorted_neigh]\n",
    "            dist_list = [tup[1] for tup in sorted_neigh]\n",
    "    \n",
    "            dist.append(dist_list)\n",
    "            neigh_ind.append(ind_list)\n",
    "        \n",
    "        if return_distance:\n",
    "            return np.array(dist), np.array(neigh_ind)\n",
    "        \n",
    "        return np.array(neigh_ind)"
   ]
  },
  {
   "cell_type": "code",
   "execution_count": null,
   "metadata": {
    "ExecuteTime": {
     "start_time": "2022-12-08T17:54:08.449Z"
    }
   },
   "outputs": [],
   "source": [
    "neighbors = kneighbors(X_test_correctly_classified_attack)\n",
    "\n",
    "jaccard_ve_generalityc = np.array([0.0 for x in range(no_of_feature_considered)])\n",
    "jaccard_vec_cal_generality = np.array([0.0 for x in range(no_of_feature_considered)])\n",
    "intersection_dis_vec_generality = np.array([0.0 for x in range(no_of_feature_considered)])\n",
    "cosine_dist_vec_generality = np.array([0.0 for x in range(no_of_feature_considered)])\n",
    "euclidean_vec_generality = np.array([0.0 for x in range(no_of_feature_considered)])"
   ]
  },
  {
   "cell_type": "code",
   "execution_count": null,
   "metadata": {
    "ExecuteTime": {
     "start_time": "2022-12-08T17:54:08.904Z"
    }
   },
   "outputs": [],
   "source": [
    "no_of_neighbors_to_consider_list = range(1,11,1)#[1, 5, 10]\n",
    "no_of_attributes_to_consider_list = range(1,11,1)#[3,5,2]"
   ]
  },
  {
   "cell_type": "code",
   "execution_count": null,
   "metadata": {
    "ExecuteTime": {
     "start_time": "2022-12-08T17:54:09.433Z"
    }
   },
   "outputs": [],
   "source": [
    "list_generality_intersection = []\n",
    "\n",
    "for cur_number_of_neighbors in tqdm(no_of_neighbors_to_consider_list, desc = 'neighbor'):\n",
    "    for cur_number_of_attributes in tqdm(no_of_attributes_to_consider_list, desc = 'attributes'):\n",
    "        \n",
    "        \n",
    "        \n",
    "        #list_all_instance_lime_intersection_list = []\n",
    "        #list_all_instance_shap_intersection_list = []\n",
    "        \n",
    "        for cur_index_attack in (range(X_test_correctly_classified_attack.shape[0])):#X_test_correctly_classified_attack.shape[0])):\n",
    "            #select k nearest neighbors\n",
    "            dic_generality_intersection = {}\n",
    "            \n",
    "            cur_selected_neighbors_indxs = neighbors[cur_index_attack]\n",
    "            cur_selected_k_neighbors_indxs = cur_selected_neighbors_indxs[:cur_number_of_neighbors]\n",
    "            #print('cur_selected_k_neighbors_indxs', ' >> ', cur_selected_k_neighbors_indxs)\n",
    "\n",
    "            lime_imp_cur_attack_all_attrib = np_arr_lime_imp_x_test_correctly_classified_attack[cur_index_attack]\n",
    "            lime_imp_cur_attack_n_attrib = lime_imp_cur_attack_all_attrib[:cur_number_of_attributes]\n",
    "            #print('lime_imp_cur_attack_n_attrib', '>> ', lime_imp_cur_attack_n_attrib)\n",
    "\n",
    "            shap_imp_cur_attack_all_attrib = np_arr_shap_imp_x_test_correctly_classified_attack[cur_index_attack]\n",
    "            shap_imp_cur_attack_n_attrib = shap_imp_cur_attack_all_attrib[:cur_number_of_attributes]\n",
    "            \n",
    "            gaps_imp_cur_attack_all_attrib = np_arr_gaps_imp_x_test_correctly_classified_attack[cur_index_attack]\n",
    "            gaps_imp_cur_attack_n_attrib = gaps_imp_cur_attack_all_attrib[:cur_number_of_attributes]\n",
    "            \n",
    "\n",
    "            list_lime_intersection_sizes = []\n",
    "            list_shap_intersection_sizes = []\n",
    "            list_gaps_intersection_sizes = []\n",
    "            for cur_neighbor_instance_indx in cur_selected_k_neighbors_indxs:\n",
    "\n",
    "                #lime\n",
    "                lime_imp_cur_neighbor_all_attribs = np_arr_lime_imp_x_test_correctly_classified_attack[cur_neighbor_instance_indx]\n",
    "                lime_imp_cur_neighbor_n_attribs = lime_imp_cur_neighbor_all_attribs[:cur_number_of_attributes]\n",
    "                #print('lime_imp_cur_neighbor_n_attribs', '>> ', lime_imp_cur_neighbor_n_attribs)\n",
    "                itersection_size_lime = cal_intersection_size(lime_imp_cur_attack_n_attrib, lime_imp_cur_neighbor_n_attribs)\n",
    "                list_lime_intersection_sizes.append(itersection_size_lime)\n",
    "\n",
    "\n",
    "                #shap\n",
    "                shap_imp_cur_neighbor_all_attribs = np_arr_shap_imp_x_test_correctly_classified_attack[cur_neighbor_instance_indx]\n",
    "                shap_imp_cur_neighbor_n_attribs = shap_imp_cur_neighbor_all_attribs[:cur_number_of_attributes]\n",
    "                #print('shap_imp_cur_neighbor_n_attribs', '>> ', shap_imp_cur_neighbor_n_attribs)\n",
    "                itersection_size_shap = cal_intersection_size(shap_imp_cur_attack_n_attrib, shap_imp_cur_neighbor_n_attribs)\n",
    "                list_shap_intersection_sizes.append(itersection_size_shap) \n",
    "                \n",
    "                #gaps\n",
    "                gaps_imp_cur_neighbor_all_attribs = np_arr_gaps_imp_x_test_correctly_classified_attack[cur_neighbor_instance_indx]\n",
    "                gaps_imp_cur_neighbor_n_attribs = gaps_imp_cur_neighbor_all_attribs[:cur_number_of_attributes]\n",
    "                \n",
    "                #print('shap_imp_cur_neighbor_n_attribs', '>> ', shap_imp_cur_neighbor_n_attribs)\n",
    "                itersection_size_gaps = cal_intersection_size(gaps_imp_cur_attack_n_attrib, gaps_imp_cur_neighbor_n_attribs)\n",
    "                list_gaps_intersection_sizes.append(itersection_size_gaps)                 \n",
    "\n",
    "            #list_all_instance_lime_intersection_list.append(list_lime_intersection_sizes)\n",
    "            #list_all_instance_shap_intersection_list.append(list_shap_intersection_sizes)\n",
    "            #print(list_shap_intersection_sizes)\n",
    "            dic_generality_intersection['no_of_neighbors'] = cur_number_of_neighbors\n",
    "            dic_generality_intersection['no_of_attributes'] = cur_number_of_attributes\n",
    "            dic_generality_intersection['lime_intersection_len_list'] = list_lime_intersection_sizes\n",
    "            dic_generality_intersection['shap_intersection_len_list'] = list_shap_intersection_sizes\n",
    "            dic_generality_intersection['gaps_intersection_len_list'] = list_gaps_intersection_sizes\n",
    "    \n",
    "            list_generality_intersection.append(dic_generality_intersection)"
   ]
  },
  {
   "cell_type": "code",
   "execution_count": null,
   "metadata": {
    "ExecuteTime": {
     "start_time": "2022-12-08T17:54:09.769Z"
    }
   },
   "outputs": [],
   "source": [
    "df_generility_intersection_details = pd.DataFrame(list_generality_intersection)"
   ]
  },
  {
   "cell_type": "code",
   "execution_count": null,
   "metadata": {},
   "outputs": [],
   "source": []
  },
  {
   "cell_type": "code",
   "execution_count": null,
   "metadata": {
    "ExecuteTime": {
     "start_time": "2022-12-08T17:54:10.464Z"
    }
   },
   "outputs": [],
   "source": [
    "df_generility_intersection_details['lime_intersection_len_list_max'] = df_generility_intersection_details['lime_intersection_len_list'].apply(max)\n",
    "df_generility_intersection_details['lime_intersection_len_list_min'] = df_generility_intersection_details['lime_intersection_len_list'].apply(min)\n",
    "df_generility_intersection_details['lime_intersection_len_list_mean'] = df_generility_intersection_details['lime_intersection_len_list'].apply(np.mean)"
   ]
  },
  {
   "cell_type": "code",
   "execution_count": null,
   "metadata": {
    "ExecuteTime": {
     "start_time": "2022-12-08T17:54:10.624Z"
    }
   },
   "outputs": [],
   "source": [
    "df_generility_intersection_details['shap_intersection_len_list_max'] = df_generility_intersection_details['shap_intersection_len_list'].apply(max)\n",
    "df_generility_intersection_details['shap_intersection_len_list_min'] = df_generility_intersection_details['shap_intersection_len_list'].apply(min)\n",
    "df_generility_intersection_details['shap_intersection_len_list_mean'] = df_generility_intersection_details['shap_intersection_len_list'].apply(np.mean)"
   ]
  },
  {
   "cell_type": "code",
   "execution_count": null,
   "metadata": {
    "ExecuteTime": {
     "start_time": "2022-12-08T17:54:11.104Z"
    }
   },
   "outputs": [],
   "source": [
    "df_generility_intersection_details['gaps_intersection_len_list_max'] = df_generility_intersection_details['gaps_intersection_len_list'].apply(max)\n",
    "df_generility_intersection_details['gaps_intersection_len_list_min'] = df_generility_intersection_details['gaps_intersection_len_list'].apply(min)\n",
    "df_generility_intersection_details['gaps_intersection_len_list_mean'] = df_generility_intersection_details['gaps_intersection_len_list'].apply(np.mean)"
   ]
  },
  {
   "cell_type": "code",
   "execution_count": null,
   "metadata": {
    "ExecuteTime": {
     "start_time": "2022-12-08T17:54:11.480Z"
    }
   },
   "outputs": [],
   "source": [
    "list_columns_to_consider = ['no_of_neighbors', 'no_of_attributes',\n",
    "                            'lime_intersection_len_list_max', 'lime_intersection_len_list_min', 'lime_intersection_len_list_mean',\n",
    "                           'shap_intersection_len_list_max', 'shap_intersection_len_list_min', 'shap_intersection_len_list_mean',\n",
    "                           'gaps_intersection_len_list_max', 'gaps_intersection_len_list_min', 'gaps_intersection_len_list_mean']\n",
    "\n",
    "list_columns_to_group = ['no_of_neighbors', 'no_of_attributes']"
   ]
  },
  {
   "cell_type": "code",
   "execution_count": null,
   "metadata": {
    "ExecuteTime": {
     "start_time": "2022-12-08T17:54:11.792Z"
    }
   },
   "outputs": [],
   "source": [
    "df_generility_intersection_summary = df_generility_intersection_details[list_columns_to_consider].groupby(list_columns_to_group).agg(\n",
    "    {\n",
    "        \"lime_intersection_len_list_max\": [np.mean, np.max, np.min], \"shap_intersection_len_list_max\": [np.mean, np.max, np.min],\"gaps_intersection_len_list_max\": [np.mean, np.max, np.min],\n",
    "        \"lime_intersection_len_list_mean\": [np.mean, np.max, np.min], \"shap_intersection_len_list_mean\": [np.mean, np.max, np.min], \"gaps_intersection_len_list_mean\": [np.mean, np.max, np.min],\n",
    "        \"lime_intersection_len_list_min\": [np.mean, np.max, np.min], \"shap_intersection_len_list_min\": [np.mean, np.max, np.min], \"gaps_intersection_len_list_min\": [np.mean, np.max, np.min],\n",
    "    })"
   ]
  },
  {
   "cell_type": "code",
   "execution_count": null,
   "metadata": {
    "ExecuteTime": {
     "start_time": "2022-12-08T17:54:12.582Z"
    }
   },
   "outputs": [],
   "source": [
    "display(HTML(df_generility_intersection_summary.to_html()))"
   ]
  },
  {
   "cell_type": "code",
   "execution_count": null,
   "metadata": {
    "ExecuteTime": {
     "start_time": "2022-12-08T17:54:13.752Z"
    }
   },
   "outputs": [],
   "source": [
    "df_generility_intersection_summary.to_csv('generality_power_g1_p1_v2.csv')"
   ]
  },
  {
   "cell_type": "code",
   "execution_count": null,
   "metadata": {},
   "outputs": [],
   "source": []
  }
 ],
 "metadata": {
  "colab": {
   "collapsed_sections": [
    "DM_LQCBrZxJP",
    "3iKmuS82ZxJX",
    "bGe7xUeiZxJZ",
    "YtdlhtllZxJb",
    "EerNc7sLZxJc"
   ],
   "name": "finalrewardmodification_brian.ipynb",
   "provenance": []
  },
  "kernelspec": {
   "display_name": "Python [conda env:scifact]",
   "language": "python",
   "name": "conda-env-scifact-py"
  },
  "language_info": {
   "codemirror_mode": {
    "name": "ipython",
    "version": 3
   },
   "file_extension": ".py",
   "mimetype": "text/x-python",
   "name": "python",
   "nbconvert_exporter": "python",
   "pygments_lexer": "ipython3",
   "version": "3.8.12"
  },
  "toc": {
   "base_numbering": 1,
   "nav_menu": {},
   "number_sections": true,
   "sideBar": true,
   "skip_h1_title": false,
   "title_cell": "Table of Contents",
   "title_sidebar": "Contents",
   "toc_cell": false,
   "toc_position": {
    "height": "calc(100% - 180px)",
    "left": "10px",
    "top": "150px",
    "width": "181px"
   },
   "toc_section_display": true,
   "toc_window_display": true
  },
  "widgets": {
   "application/vnd.jupyter.widget-state+json": {
    "03ede609d27a4d5ebe8c0b5d72e6d29c": {
     "model_module": "@jupyter-widgets/controls",
     "model_module_version": "1.5.0",
     "model_name": "ProgressStyleModel",
     "state": {
      "_model_module": "@jupyter-widgets/controls",
      "_model_module_version": "1.5.0",
      "_model_name": "ProgressStyleModel",
      "_view_count": null,
      "_view_module": "@jupyter-widgets/base",
      "_view_module_version": "1.2.0",
      "_view_name": "StyleView",
      "bar_color": null,
      "description_width": ""
     }
    },
    "06e6a7ba6dc44d8face4dbfcf3b5e43a": {
     "model_module": "@jupyter-widgets/controls",
     "model_module_version": "1.5.0",
     "model_name": "HTMLModel",
     "state": {
      "_dom_classes": [],
      "_model_module": "@jupyter-widgets/controls",
      "_model_module_version": "1.5.0",
      "_model_name": "HTMLModel",
      "_view_count": null,
      "_view_module": "@jupyter-widgets/controls",
      "_view_module_version": "1.5.0",
      "_view_name": "HTMLView",
      "description": "",
      "description_tooltip": null,
      "layout": "IPY_MODEL_78d302710b034141bb0e8f9494e2600a",
      "placeholder": "​",
      "style": "IPY_MODEL_b720bc98550041e3becb469d7360d9ea",
      "value": "calculating coefficient by index:  39%"
     }
    },
    "1d527daadc604e7f9d5d44d6d7913f42": {
     "model_module": "@jupyter-widgets/controls",
     "model_module_version": "1.5.0",
     "model_name": "HTMLModel",
     "state": {
      "_dom_classes": [],
      "_model_module": "@jupyter-widgets/controls",
      "_model_module_version": "1.5.0",
      "_model_name": "HTMLModel",
      "_view_count": null,
      "_view_module": "@jupyter-widgets/controls",
      "_view_module_version": "1.5.0",
      "_view_name": "HTMLView",
      "description": "",
      "description_tooltip": null,
      "layout": "IPY_MODEL_ab110118dc444af68340e2bebe64b77c",
      "placeholder": "​",
      "style": "IPY_MODEL_78506694d71f4c379cdbddb59a211362",
      "value": " 324/324 [02:30&lt;00:00,  2.50it/s]"
     }
    },
    "28defee6b5b34a5f8581ca77cdce3418": {
     "model_module": "@jupyter-widgets/controls",
     "model_module_version": "1.5.0",
     "model_name": "ProgressStyleModel",
     "state": {
      "_model_module": "@jupyter-widgets/controls",
      "_model_module_version": "1.5.0",
      "_model_name": "ProgressStyleModel",
      "_view_count": null,
      "_view_module": "@jupyter-widgets/base",
      "_view_module_version": "1.2.0",
      "_view_name": "StyleView",
      "bar_color": null,
      "description_width": ""
     }
    },
    "2c870e3e9b4b44838c6b4b6dfd32b360": {
     "model_module": "@jupyter-widgets/base",
     "model_module_version": "1.2.0",
     "model_name": "LayoutModel",
     "state": {
      "_model_module": "@jupyter-widgets/base",
      "_model_module_version": "1.2.0",
      "_model_name": "LayoutModel",
      "_view_count": null,
      "_view_module": "@jupyter-widgets/base",
      "_view_module_version": "1.2.0",
      "_view_name": "LayoutView",
      "align_content": null,
      "align_items": null,
      "align_self": null,
      "border": null,
      "bottom": null,
      "display": null,
      "flex": null,
      "flex_flow": null,
      "grid_area": null,
      "grid_auto_columns": null,
      "grid_auto_flow": null,
      "grid_auto_rows": null,
      "grid_column": null,
      "grid_gap": null,
      "grid_row": null,
      "grid_template_areas": null,
      "grid_template_columns": null,
      "grid_template_rows": null,
      "height": null,
      "justify_content": null,
      "justify_items": null,
      "left": null,
      "margin": null,
      "max_height": null,
      "max_width": null,
      "min_height": null,
      "min_width": null,
      "object_fit": null,
      "object_position": null,
      "order": null,
      "overflow": null,
      "overflow_x": null,
      "overflow_y": null,
      "padding": null,
      "right": null,
      "top": null,
      "visibility": null,
      "width": null
     }
    },
    "2f9985ef178340d29d1d90a0d40597aa": {
     "model_module": "@jupyter-widgets/controls",
     "model_module_version": "1.5.0",
     "model_name": "HTMLModel",
     "state": {
      "_dom_classes": [],
      "_model_module": "@jupyter-widgets/controls",
      "_model_module_version": "1.5.0",
      "_model_name": "HTMLModel",
      "_view_count": null,
      "_view_module": "@jupyter-widgets/controls",
      "_view_module_version": "1.5.0",
      "_view_name": "HTMLView",
      "description": "",
      "description_tooltip": null,
      "layout": "IPY_MODEL_2c870e3e9b4b44838c6b4b6dfd32b360",
      "placeholder": "​",
      "style": "IPY_MODEL_dad44b9e42524a80a9d5610662eb924d",
      "value": " 125/324 [00:55&lt;01:26,  2.30it/s]"
     }
    },
    "3ac73d5fce3a46558036734573fc549b": {
     "model_module": "@jupyter-widgets/base",
     "model_module_version": "1.2.0",
     "model_name": "LayoutModel",
     "state": {
      "_model_module": "@jupyter-widgets/base",
      "_model_module_version": "1.2.0",
      "_model_name": "LayoutModel",
      "_view_count": null,
      "_view_module": "@jupyter-widgets/base",
      "_view_module_version": "1.2.0",
      "_view_name": "LayoutView",
      "align_content": null,
      "align_items": null,
      "align_self": null,
      "border": null,
      "bottom": null,
      "display": null,
      "flex": null,
      "flex_flow": null,
      "grid_area": null,
      "grid_auto_columns": null,
      "grid_auto_flow": null,
      "grid_auto_rows": null,
      "grid_column": null,
      "grid_gap": null,
      "grid_row": null,
      "grid_template_areas": null,
      "grid_template_columns": null,
      "grid_template_rows": null,
      "height": null,
      "justify_content": null,
      "justify_items": null,
      "left": null,
      "margin": null,
      "max_height": null,
      "max_width": null,
      "min_height": null,
      "min_width": null,
      "object_fit": null,
      "object_position": null,
      "order": null,
      "overflow": null,
      "overflow_x": null,
      "overflow_y": null,
      "padding": null,
      "right": null,
      "top": null,
      "visibility": null,
      "width": null
     }
    },
    "3f5eba7765e8471383a2ae16674b4f44": {
     "model_module": "@jupyter-widgets/base",
     "model_module_version": "1.2.0",
     "model_name": "LayoutModel",
     "state": {
      "_model_module": "@jupyter-widgets/base",
      "_model_module_version": "1.2.0",
      "_model_name": "LayoutModel",
      "_view_count": null,
      "_view_module": "@jupyter-widgets/base",
      "_view_module_version": "1.2.0",
      "_view_name": "LayoutView",
      "align_content": null,
      "align_items": null,
      "align_self": null,
      "border": null,
      "bottom": null,
      "display": null,
      "flex": null,
      "flex_flow": null,
      "grid_area": null,
      "grid_auto_columns": null,
      "grid_auto_flow": null,
      "grid_auto_rows": null,
      "grid_column": null,
      "grid_gap": null,
      "grid_row": null,
      "grid_template_areas": null,
      "grid_template_columns": null,
      "grid_template_rows": null,
      "height": null,
      "justify_content": null,
      "justify_items": null,
      "left": null,
      "margin": null,
      "max_height": null,
      "max_width": null,
      "min_height": null,
      "min_width": null,
      "object_fit": null,
      "object_position": null,
      "order": null,
      "overflow": null,
      "overflow_x": null,
      "overflow_y": null,
      "padding": null,
      "right": null,
      "top": null,
      "visibility": null,
      "width": null
     }
    },
    "3fdd7c9b7649487394b4791eb5279cc3": {
     "model_module": "@jupyter-widgets/controls",
     "model_module_version": "1.5.0",
     "model_name": "HBoxModel",
     "state": {
      "_dom_classes": [],
      "_model_module": "@jupyter-widgets/controls",
      "_model_module_version": "1.5.0",
      "_model_name": "HBoxModel",
      "_view_count": null,
      "_view_module": "@jupyter-widgets/controls",
      "_view_module_version": "1.5.0",
      "_view_name": "HBoxView",
      "box_style": "",
      "children": [
       "IPY_MODEL_06e6a7ba6dc44d8face4dbfcf3b5e43a",
       "IPY_MODEL_debc395ecd024500aaa24742ad6c6608",
       "IPY_MODEL_2f9985ef178340d29d1d90a0d40597aa"
      ],
      "layout": "IPY_MODEL_3ac73d5fce3a46558036734573fc549b"
     }
    },
    "466d34beae48405b8c878011beaf79b6": {
     "model_module": "@jupyter-widgets/controls",
     "model_module_version": "1.5.0",
     "model_name": "DescriptionStyleModel",
     "state": {
      "_model_module": "@jupyter-widgets/controls",
      "_model_module_version": "1.5.0",
      "_model_name": "DescriptionStyleModel",
      "_view_count": null,
      "_view_module": "@jupyter-widgets/base",
      "_view_module_version": "1.2.0",
      "_view_name": "StyleView",
      "description_width": ""
     }
    },
    "4ce4a2078f214fd3b330e80ee19dff8f": {
     "model_module": "@jupyter-widgets/controls",
     "model_module_version": "1.5.0",
     "model_name": "HBoxModel",
     "state": {
      "_dom_classes": [],
      "_model_module": "@jupyter-widgets/controls",
      "_model_module_version": "1.5.0",
      "_model_name": "HBoxModel",
      "_view_count": null,
      "_view_module": "@jupyter-widgets/controls",
      "_view_module_version": "1.5.0",
      "_view_name": "HBoxView",
      "box_style": "",
      "children": [
       "IPY_MODEL_d18588f8f6274a08a937643d03a3aae5",
       "IPY_MODEL_57e4fb5fff4a42ef856311bbd1bc49e9",
       "IPY_MODEL_1d527daadc604e7f9d5d44d6d7913f42"
      ],
      "layout": "IPY_MODEL_d5101211885b400aac07f65a07dd4337"
     }
    },
    "57e4fb5fff4a42ef856311bbd1bc49e9": {
     "model_module": "@jupyter-widgets/controls",
     "model_module_version": "1.5.0",
     "model_name": "FloatProgressModel",
     "state": {
      "_dom_classes": [],
      "_model_module": "@jupyter-widgets/controls",
      "_model_module_version": "1.5.0",
      "_model_name": "FloatProgressModel",
      "_view_count": null,
      "_view_module": "@jupyter-widgets/controls",
      "_view_module_version": "1.5.0",
      "_view_name": "ProgressView",
      "bar_style": "success",
      "description": "",
      "description_tooltip": null,
      "layout": "IPY_MODEL_6eed0fbe07ae41c0a59c04f0d660eb2c",
      "max": 324,
      "min": 0,
      "orientation": "horizontal",
      "style": "IPY_MODEL_03ede609d27a4d5ebe8c0b5d72e6d29c",
      "value": 324
     }
    },
    "5868a482ae774b079b3b1249b56768f9": {
     "model_module": "@jupyter-widgets/controls",
     "model_module_version": "1.5.0",
     "model_name": "FloatProgressModel",
     "state": {
      "_dom_classes": [],
      "_model_module": "@jupyter-widgets/controls",
      "_model_module_version": "1.5.0",
      "_model_name": "FloatProgressModel",
      "_view_count": null,
      "_view_module": "@jupyter-widgets/controls",
      "_view_module_version": "1.5.0",
      "_view_name": "ProgressView",
      "bar_style": "danger",
      "description": "",
      "description_tooltip": null,
      "layout": "IPY_MODEL_f4823b6eebd645778e8bbf49a47884c6",
      "max": 700,
      "min": 0,
      "orientation": "horizontal",
      "style": "IPY_MODEL_bf11998f04054c5f98dbcb49b52817d3",
      "value": 1
     }
    },
    "6c85c0837647489fb56573749adc05cc": {
     "model_module": "@jupyter-widgets/controls",
     "model_module_version": "1.5.0",
     "model_name": "DescriptionStyleModel",
     "state": {
      "_model_module": "@jupyter-widgets/controls",
      "_model_module_version": "1.5.0",
      "_model_name": "DescriptionStyleModel",
      "_view_count": null,
      "_view_module": "@jupyter-widgets/base",
      "_view_module_version": "1.2.0",
      "_view_name": "StyleView",
      "description_width": ""
     }
    },
    "6eed0fbe07ae41c0a59c04f0d660eb2c": {
     "model_module": "@jupyter-widgets/base",
     "model_module_version": "1.2.0",
     "model_name": "LayoutModel",
     "state": {
      "_model_module": "@jupyter-widgets/base",
      "_model_module_version": "1.2.0",
      "_model_name": "LayoutModel",
      "_view_count": null,
      "_view_module": "@jupyter-widgets/base",
      "_view_module_version": "1.2.0",
      "_view_name": "LayoutView",
      "align_content": null,
      "align_items": null,
      "align_self": null,
      "border": null,
      "bottom": null,
      "display": null,
      "flex": null,
      "flex_flow": null,
      "grid_area": null,
      "grid_auto_columns": null,
      "grid_auto_flow": null,
      "grid_auto_rows": null,
      "grid_column": null,
      "grid_gap": null,
      "grid_row": null,
      "grid_template_areas": null,
      "grid_template_columns": null,
      "grid_template_rows": null,
      "height": null,
      "justify_content": null,
      "justify_items": null,
      "left": null,
      "margin": null,
      "max_height": null,
      "max_width": null,
      "min_height": null,
      "min_width": null,
      "object_fit": null,
      "object_position": null,
      "order": null,
      "overflow": null,
      "overflow_x": null,
      "overflow_y": null,
      "padding": null,
      "right": null,
      "top": null,
      "visibility": null,
      "width": null
     }
    },
    "730df2dc3eac4d0781736c1e26a650c2": {
     "model_module": "@jupyter-widgets/base",
     "model_module_version": "1.2.0",
     "model_name": "LayoutModel",
     "state": {
      "_model_module": "@jupyter-widgets/base",
      "_model_module_version": "1.2.0",
      "_model_name": "LayoutModel",
      "_view_count": null,
      "_view_module": "@jupyter-widgets/base",
      "_view_module_version": "1.2.0",
      "_view_name": "LayoutView",
      "align_content": null,
      "align_items": null,
      "align_self": null,
      "border": null,
      "bottom": null,
      "display": null,
      "flex": null,
      "flex_flow": null,
      "grid_area": null,
      "grid_auto_columns": null,
      "grid_auto_flow": null,
      "grid_auto_rows": null,
      "grid_column": null,
      "grid_gap": null,
      "grid_row": null,
      "grid_template_areas": null,
      "grid_template_columns": null,
      "grid_template_rows": null,
      "height": null,
      "justify_content": null,
      "justify_items": null,
      "left": null,
      "margin": null,
      "max_height": null,
      "max_width": null,
      "min_height": null,
      "min_width": null,
      "object_fit": null,
      "object_position": null,
      "order": null,
      "overflow": null,
      "overflow_x": null,
      "overflow_y": null,
      "padding": null,
      "right": null,
      "top": null,
      "visibility": null,
      "width": null
     }
    },
    "78506694d71f4c379cdbddb59a211362": {
     "model_module": "@jupyter-widgets/controls",
     "model_module_version": "1.5.0",
     "model_name": "DescriptionStyleModel",
     "state": {
      "_model_module": "@jupyter-widgets/controls",
      "_model_module_version": "1.5.0",
      "_model_name": "DescriptionStyleModel",
      "_view_count": null,
      "_view_module": "@jupyter-widgets/base",
      "_view_module_version": "1.2.0",
      "_view_name": "StyleView",
      "description_width": ""
     }
    },
    "78d302710b034141bb0e8f9494e2600a": {
     "model_module": "@jupyter-widgets/base",
     "model_module_version": "1.2.0",
     "model_name": "LayoutModel",
     "state": {
      "_model_module": "@jupyter-widgets/base",
      "_model_module_version": "1.2.0",
      "_model_name": "LayoutModel",
      "_view_count": null,
      "_view_module": "@jupyter-widgets/base",
      "_view_module_version": "1.2.0",
      "_view_name": "LayoutView",
      "align_content": null,
      "align_items": null,
      "align_self": null,
      "border": null,
      "bottom": null,
      "display": null,
      "flex": null,
      "flex_flow": null,
      "grid_area": null,
      "grid_auto_columns": null,
      "grid_auto_flow": null,
      "grid_auto_rows": null,
      "grid_column": null,
      "grid_gap": null,
      "grid_row": null,
      "grid_template_areas": null,
      "grid_template_columns": null,
      "grid_template_rows": null,
      "height": null,
      "justify_content": null,
      "justify_items": null,
      "left": null,
      "margin": null,
      "max_height": null,
      "max_width": null,
      "min_height": null,
      "min_width": null,
      "object_fit": null,
      "object_position": null,
      "order": null,
      "overflow": null,
      "overflow_x": null,
      "overflow_y": null,
      "padding": null,
      "right": null,
      "top": null,
      "visibility": null,
      "width": null
     }
    },
    "9685ce9f21904f8f979b902216d6d7f0": {
     "model_module": "@jupyter-widgets/controls",
     "model_module_version": "1.5.0",
     "model_name": "DescriptionStyleModel",
     "state": {
      "_model_module": "@jupyter-widgets/controls",
      "_model_module_version": "1.5.0",
      "_model_name": "DescriptionStyleModel",
      "_view_count": null,
      "_view_module": "@jupyter-widgets/base",
      "_view_module_version": "1.2.0",
      "_view_name": "StyleView",
      "description_width": ""
     }
    },
    "9b4072f9ec824f599e136e17950992a1": {
     "model_module": "@jupyter-widgets/base",
     "model_module_version": "1.2.0",
     "model_name": "LayoutModel",
     "state": {
      "_model_module": "@jupyter-widgets/base",
      "_model_module_version": "1.2.0",
      "_model_name": "LayoutModel",
      "_view_count": null,
      "_view_module": "@jupyter-widgets/base",
      "_view_module_version": "1.2.0",
      "_view_name": "LayoutView",
      "align_content": null,
      "align_items": null,
      "align_self": null,
      "border": null,
      "bottom": null,
      "display": null,
      "flex": null,
      "flex_flow": null,
      "grid_area": null,
      "grid_auto_columns": null,
      "grid_auto_flow": null,
      "grid_auto_rows": null,
      "grid_column": null,
      "grid_gap": null,
      "grid_row": null,
      "grid_template_areas": null,
      "grid_template_columns": null,
      "grid_template_rows": null,
      "height": null,
      "justify_content": null,
      "justify_items": null,
      "left": null,
      "margin": null,
      "max_height": null,
      "max_width": null,
      "min_height": null,
      "min_width": null,
      "object_fit": null,
      "object_position": null,
      "order": null,
      "overflow": null,
      "overflow_x": null,
      "overflow_y": null,
      "padding": null,
      "right": null,
      "top": null,
      "visibility": null,
      "width": null
     }
    },
    "a9b6494e024742119ee5a95a3b159467": {
     "model_module": "@jupyter-widgets/base",
     "model_module_version": "1.2.0",
     "model_name": "LayoutModel",
     "state": {
      "_model_module": "@jupyter-widgets/base",
      "_model_module_version": "1.2.0",
      "_model_name": "LayoutModel",
      "_view_count": null,
      "_view_module": "@jupyter-widgets/base",
      "_view_module_version": "1.2.0",
      "_view_name": "LayoutView",
      "align_content": null,
      "align_items": null,
      "align_self": null,
      "border": null,
      "bottom": null,
      "display": null,
      "flex": null,
      "flex_flow": null,
      "grid_area": null,
      "grid_auto_columns": null,
      "grid_auto_flow": null,
      "grid_auto_rows": null,
      "grid_column": null,
      "grid_gap": null,
      "grid_row": null,
      "grid_template_areas": null,
      "grid_template_columns": null,
      "grid_template_rows": null,
      "height": null,
      "justify_content": null,
      "justify_items": null,
      "left": null,
      "margin": null,
      "max_height": null,
      "max_width": null,
      "min_height": null,
      "min_width": null,
      "object_fit": null,
      "object_position": null,
      "order": null,
      "overflow": null,
      "overflow_x": null,
      "overflow_y": null,
      "padding": null,
      "right": null,
      "top": null,
      "visibility": null,
      "width": null
     }
    },
    "ab110118dc444af68340e2bebe64b77c": {
     "model_module": "@jupyter-widgets/base",
     "model_module_version": "1.2.0",
     "model_name": "LayoutModel",
     "state": {
      "_model_module": "@jupyter-widgets/base",
      "_model_module_version": "1.2.0",
      "_model_name": "LayoutModel",
      "_view_count": null,
      "_view_module": "@jupyter-widgets/base",
      "_view_module_version": "1.2.0",
      "_view_name": "LayoutView",
      "align_content": null,
      "align_items": null,
      "align_self": null,
      "border": null,
      "bottom": null,
      "display": null,
      "flex": null,
      "flex_flow": null,
      "grid_area": null,
      "grid_auto_columns": null,
      "grid_auto_flow": null,
      "grid_auto_rows": null,
      "grid_column": null,
      "grid_gap": null,
      "grid_row": null,
      "grid_template_areas": null,
      "grid_template_columns": null,
      "grid_template_rows": null,
      "height": null,
      "justify_content": null,
      "justify_items": null,
      "left": null,
      "margin": null,
      "max_height": null,
      "max_width": null,
      "min_height": null,
      "min_width": null,
      "object_fit": null,
      "object_position": null,
      "order": null,
      "overflow": null,
      "overflow_x": null,
      "overflow_y": null,
      "padding": null,
      "right": null,
      "top": null,
      "visibility": null,
      "width": null
     }
    },
    "b720bc98550041e3becb469d7360d9ea": {
     "model_module": "@jupyter-widgets/controls",
     "model_module_version": "1.5.0",
     "model_name": "DescriptionStyleModel",
     "state": {
      "_model_module": "@jupyter-widgets/controls",
      "_model_module_version": "1.5.0",
      "_model_name": "DescriptionStyleModel",
      "_view_count": null,
      "_view_module": "@jupyter-widgets/base",
      "_view_module_version": "1.2.0",
      "_view_name": "StyleView",
      "description_width": ""
     }
    },
    "be269814579f40899193ac26414c5417": {
     "model_module": "@jupyter-widgets/base",
     "model_module_version": "1.2.0",
     "model_name": "LayoutModel",
     "state": {
      "_model_module": "@jupyter-widgets/base",
      "_model_module_version": "1.2.0",
      "_model_name": "LayoutModel",
      "_view_count": null,
      "_view_module": "@jupyter-widgets/base",
      "_view_module_version": "1.2.0",
      "_view_name": "LayoutView",
      "align_content": null,
      "align_items": null,
      "align_self": null,
      "border": null,
      "bottom": null,
      "display": null,
      "flex": null,
      "flex_flow": null,
      "grid_area": null,
      "grid_auto_columns": null,
      "grid_auto_flow": null,
      "grid_auto_rows": null,
      "grid_column": null,
      "grid_gap": null,
      "grid_row": null,
      "grid_template_areas": null,
      "grid_template_columns": null,
      "grid_template_rows": null,
      "height": null,
      "justify_content": null,
      "justify_items": null,
      "left": null,
      "margin": null,
      "max_height": null,
      "max_width": null,
      "min_height": null,
      "min_width": null,
      "object_fit": null,
      "object_position": null,
      "order": null,
      "overflow": null,
      "overflow_x": null,
      "overflow_y": null,
      "padding": null,
      "right": null,
      "top": null,
      "visibility": null,
      "width": null
     }
    },
    "bf11998f04054c5f98dbcb49b52817d3": {
     "model_module": "@jupyter-widgets/controls",
     "model_module_version": "1.5.0",
     "model_name": "ProgressStyleModel",
     "state": {
      "_model_module": "@jupyter-widgets/controls",
      "_model_module_version": "1.5.0",
      "_model_name": "ProgressStyleModel",
      "_view_count": null,
      "_view_module": "@jupyter-widgets/base",
      "_view_module_version": "1.2.0",
      "_view_name": "StyleView",
      "bar_color": null,
      "description_width": ""
     }
    },
    "cd4dbaccb78d474da741b53c282f7360": {
     "model_module": "@jupyter-widgets/controls",
     "model_module_version": "1.5.0",
     "model_name": "HTMLModel",
     "state": {
      "_dom_classes": [],
      "_model_module": "@jupyter-widgets/controls",
      "_model_module_version": "1.5.0",
      "_model_name": "HTMLModel",
      "_view_count": null,
      "_view_module": "@jupyter-widgets/controls",
      "_view_module_version": "1.5.0",
      "_view_name": "HTMLView",
      "description": "",
      "description_tooltip": null,
      "layout": "IPY_MODEL_730df2dc3eac4d0781736c1e26a650c2",
      "placeholder": "​",
      "style": "IPY_MODEL_6c85c0837647489fb56573749adc05cc",
      "value": "  0%"
     }
    },
    "d18588f8f6274a08a937643d03a3aae5": {
     "model_module": "@jupyter-widgets/controls",
     "model_module_version": "1.5.0",
     "model_name": "HTMLModel",
     "state": {
      "_dom_classes": [],
      "_model_module": "@jupyter-widgets/controls",
      "_model_module_version": "1.5.0",
      "_model_name": "HTMLModel",
      "_view_count": null,
      "_view_module": "@jupyter-widgets/controls",
      "_view_module_version": "1.5.0",
      "_view_name": "HTMLView",
      "description": "",
      "description_tooltip": null,
      "layout": "IPY_MODEL_9b4072f9ec824f599e136e17950992a1",
      "placeholder": "​",
      "style": "IPY_MODEL_466d34beae48405b8c878011beaf79b6",
      "value": "calculating coefficient by index: 100%"
     }
    },
    "d5101211885b400aac07f65a07dd4337": {
     "model_module": "@jupyter-widgets/base",
     "model_module_version": "1.2.0",
     "model_name": "LayoutModel",
     "state": {
      "_model_module": "@jupyter-widgets/base",
      "_model_module_version": "1.2.0",
      "_model_name": "LayoutModel",
      "_view_count": null,
      "_view_module": "@jupyter-widgets/base",
      "_view_module_version": "1.2.0",
      "_view_name": "LayoutView",
      "align_content": null,
      "align_items": null,
      "align_self": null,
      "border": null,
      "bottom": null,
      "display": null,
      "flex": null,
      "flex_flow": null,
      "grid_area": null,
      "grid_auto_columns": null,
      "grid_auto_flow": null,
      "grid_auto_rows": null,
      "grid_column": null,
      "grid_gap": null,
      "grid_row": null,
      "grid_template_areas": null,
      "grid_template_columns": null,
      "grid_template_rows": null,
      "height": null,
      "justify_content": null,
      "justify_items": null,
      "left": null,
      "margin": null,
      "max_height": null,
      "max_width": null,
      "min_height": null,
      "min_width": null,
      "object_fit": null,
      "object_position": null,
      "order": null,
      "overflow": null,
      "overflow_x": null,
      "overflow_y": null,
      "padding": null,
      "right": null,
      "top": null,
      "visibility": null,
      "width": null
     }
    },
    "dad44b9e42524a80a9d5610662eb924d": {
     "model_module": "@jupyter-widgets/controls",
     "model_module_version": "1.5.0",
     "model_name": "DescriptionStyleModel",
     "state": {
      "_model_module": "@jupyter-widgets/controls",
      "_model_module_version": "1.5.0",
      "_model_name": "DescriptionStyleModel",
      "_view_count": null,
      "_view_module": "@jupyter-widgets/base",
      "_view_module_version": "1.2.0",
      "_view_name": "StyleView",
      "description_width": ""
     }
    },
    "debc395ecd024500aaa24742ad6c6608": {
     "model_module": "@jupyter-widgets/controls",
     "model_module_version": "1.5.0",
     "model_name": "FloatProgressModel",
     "state": {
      "_dom_classes": [],
      "_model_module": "@jupyter-widgets/controls",
      "_model_module_version": "1.5.0",
      "_model_name": "FloatProgressModel",
      "_view_count": null,
      "_view_module": "@jupyter-widgets/controls",
      "_view_module_version": "1.5.0",
      "_view_name": "ProgressView",
      "bar_style": "danger",
      "description": "",
      "description_tooltip": null,
      "layout": "IPY_MODEL_3f5eba7765e8471383a2ae16674b4f44",
      "max": 324,
      "min": 0,
      "orientation": "horizontal",
      "style": "IPY_MODEL_28defee6b5b34a5f8581ca77cdce3418",
      "value": 125
     }
    },
    "eb49246f3538473099579ce1d7d779c0": {
     "model_module": "@jupyter-widgets/controls",
     "model_module_version": "1.5.0",
     "model_name": "HBoxModel",
     "state": {
      "_dom_classes": [],
      "_model_module": "@jupyter-widgets/controls",
      "_model_module_version": "1.5.0",
      "_model_name": "HBoxModel",
      "_view_count": null,
      "_view_module": "@jupyter-widgets/controls",
      "_view_module_version": "1.5.0",
      "_view_name": "HBoxView",
      "box_style": "",
      "children": [
       "IPY_MODEL_cd4dbaccb78d474da741b53c282f7360",
       "IPY_MODEL_5868a482ae774b079b3b1249b56768f9",
       "IPY_MODEL_efc75c69ceb140c0b522158a115a391b"
      ],
      "layout": "IPY_MODEL_a9b6494e024742119ee5a95a3b159467"
     }
    },
    "efc75c69ceb140c0b522158a115a391b": {
     "model_module": "@jupyter-widgets/controls",
     "model_module_version": "1.5.0",
     "model_name": "HTMLModel",
     "state": {
      "_dom_classes": [],
      "_model_module": "@jupyter-widgets/controls",
      "_model_module_version": "1.5.0",
      "_model_name": "HTMLModel",
      "_view_count": null,
      "_view_module": "@jupyter-widgets/controls",
      "_view_module_version": "1.5.0",
      "_view_name": "HTMLView",
      "description": "",
      "description_tooltip": null,
      "layout": "IPY_MODEL_be269814579f40899193ac26414c5417",
      "placeholder": "​",
      "style": "IPY_MODEL_9685ce9f21904f8f979b902216d6d7f0",
      "value": " 1/700 [03:25&lt;29:11:30, 150.34s/it]"
     }
    },
    "f4823b6eebd645778e8bbf49a47884c6": {
     "model_module": "@jupyter-widgets/base",
     "model_module_version": "1.2.0",
     "model_name": "LayoutModel",
     "state": {
      "_model_module": "@jupyter-widgets/base",
      "_model_module_version": "1.2.0",
      "_model_name": "LayoutModel",
      "_view_count": null,
      "_view_module": "@jupyter-widgets/base",
      "_view_module_version": "1.2.0",
      "_view_name": "LayoutView",
      "align_content": null,
      "align_items": null,
      "align_self": null,
      "border": null,
      "bottom": null,
      "display": null,
      "flex": null,
      "flex_flow": null,
      "grid_area": null,
      "grid_auto_columns": null,
      "grid_auto_flow": null,
      "grid_auto_rows": null,
      "grid_column": null,
      "grid_gap": null,
      "grid_row": null,
      "grid_template_areas": null,
      "grid_template_columns": null,
      "grid_template_rows": null,
      "height": null,
      "justify_content": null,
      "justify_items": null,
      "left": null,
      "margin": null,
      "max_height": null,
      "max_width": null,
      "min_height": null,
      "min_width": null,
      "object_fit": null,
      "object_position": null,
      "order": null,
      "overflow": null,
      "overflow_x": null,
      "overflow_y": null,
      "padding": null,
      "right": null,
      "top": null,
      "visibility": null,
      "width": null
     }
    }
   }
  }
 },
 "nbformat": 4,
 "nbformat_minor": 1
}
